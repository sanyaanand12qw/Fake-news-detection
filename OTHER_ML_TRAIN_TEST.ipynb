{
 "cells": [
  {
   "cell_type": "code",
   "execution_count": 1,
   "metadata": {
    "execution": {
     "iopub.execute_input": "2020-11-30T05:00:18.478420Z",
     "iopub.status.busy": "2020-11-30T05:00:18.477419Z",
     "iopub.status.idle": "2020-11-30T05:00:19.903970Z",
     "shell.execute_reply": "2020-11-30T05:00:19.903970Z",
     "shell.execute_reply.started": "2020-11-30T05:00:18.478420Z"
    }
   },
   "outputs": [
    {
     "ename": "ModuleNotFoundError",
     "evalue": "No module named 'gensim'",
     "output_type": "error",
     "traceback": [
      "\u001b[1;31m---------------------------------------------------------------------------\u001b[0m",
      "\u001b[1;31mModuleNotFoundError\u001b[0m                       Traceback (most recent call last)",
      "\u001b[1;32m<ipython-input-1-896ca3a07f99>\u001b[0m in \u001b[0;36m<module>\u001b[1;34m\u001b[0m\n\u001b[0;32m      7\u001b[0m \u001b[1;32mfrom\u001b[0m \u001b[0msklearn\u001b[0m\u001b[1;33m.\u001b[0m\u001b[0mmetrics\u001b[0m \u001b[1;32mimport\u001b[0m \u001b[0maccuracy_score\u001b[0m\u001b[1;33m\u001b[0m\u001b[1;33m\u001b[0m\u001b[0m\n\u001b[0;32m      8\u001b[0m \u001b[1;32mfrom\u001b[0m \u001b[0msklearn\u001b[0m\u001b[1;33m.\u001b[0m\u001b[0mmetrics\u001b[0m \u001b[1;32mimport\u001b[0m \u001b[0mconfusion_matrix\u001b[0m\u001b[1;33m\u001b[0m\u001b[1;33m\u001b[0m\u001b[0m\n\u001b[1;32m----> 9\u001b[1;33m \u001b[1;32mfrom\u001b[0m \u001b[0mgensim\u001b[0m\u001b[1;33m.\u001b[0m\u001b[0mparsing\u001b[0m\u001b[1;33m.\u001b[0m\u001b[0mpreprocessing\u001b[0m \u001b[1;32mimport\u001b[0m \u001b[0mremove_stopwords\u001b[0m\u001b[1;33m\u001b[0m\u001b[1;33m\u001b[0m\u001b[0m\n\u001b[0m\u001b[0;32m     10\u001b[0m \u001b[1;32mimport\u001b[0m \u001b[0mre\u001b[0m\u001b[1;33m\u001b[0m\u001b[1;33m\u001b[0m\u001b[0m\n",
      "\u001b[1;31mModuleNotFoundError\u001b[0m: No module named 'gensim'"
     ]
    }
   ],
   "source": [
    "import itertools\n",
    "import pandas as pd\n",
    "import numpy as np\n",
    "from sklearn.linear_model import PassiveAggressiveClassifier\n",
    "from sklearn.model_selection import train_test_split\n",
    "from sklearn.feature_extraction.text import TfidfVectorizer\n",
    "from sklearn.metrics import accuracy_score\n",
    "from sklearn.metrics import confusion_matrix\n",
    "from gensim.parsing.preprocessing import remove_stopwords\n",
    "import re"
   ]
  },
  {
   "cell_type": "code",
   "execution_count": 2,
   "metadata": {
    "execution": {
     "iopub.execute_input": "2020-11-30T05:00:20.814359Z",
     "iopub.status.busy": "2020-11-30T05:00:20.813359Z",
     "iopub.status.idle": "2020-11-30T05:00:22.493552Z",
     "shell.execute_reply": "2020-11-30T05:00:22.492550Z",
     "shell.execute_reply.started": "2020-11-30T05:00:20.814359Z"
    }
   },
   "outputs": [
    {
     "data": {
      "text/plain": [
       "(4989, 5)"
      ]
     },
     "execution_count": 2,
     "metadata": {},
     "output_type": "execute_result"
    }
   ],
   "source": [
    "# Import dataset\n",
    "df=pd.read_csv('train.csv')[0:5000]\n",
    "df = df.dropna(subset=['text']).reset_index(drop=True)\n",
    "df['text'] = df['text'].astype('str')\n",
    "df['text'] = df.apply(lambda x: re.sub('[^A-Za-z0-9 ]+', '', x['text']), axis = 1)\n",
    "# Get the shape\n",
    "df.shape"
   ]
  },
  {
   "cell_type": "code",
   "execution_count": 3,
   "metadata": {
    "execution": {
     "iopub.execute_input": "2020-11-30T05:00:22.850729Z",
     "iopub.status.busy": "2020-11-30T05:00:22.849729Z",
     "iopub.status.idle": "2020-11-30T05:00:23.421323Z",
     "shell.execute_reply": "2020-11-30T05:00:23.420321Z",
     "shell.execute_reply.started": "2020-11-30T05:00:22.850729Z"
    }
   },
   "outputs": [
    {
     "name": "stdout",
     "output_type": "stream",
     "text": [
      "(997, 1)\n"
     ]
    }
   ],
   "source": [
    "# Import dataset\n",
    "df_test=pd.read_csv('test.csv')[0:1000]\n",
    "\n",
    "# Get the shape\n",
    "req_df = df_test[['text']]\n",
    "# req_df['b_labels'] = req_df['label'].map({'REAL': 0, 'FAKE': 1})\n",
    "req_df = req_df.dropna(subset=['text']).reset_index(drop=True)\n",
    "req_df['text'] = req_df['text'].astype('str')\n",
    "req_df['text'] = req_df.apply(lambda x: re.sub('[^A-Za-z0-9 ]+', '', x['text']), axis = 1)\n",
    "req_df['text'] = req_df.apply(lambda x: remove_stopwords(x['text']), axis = 1)\n",
    "print(req_df.shape)"
   ]
  },
  {
   "cell_type": "code",
   "execution_count": 4,
   "metadata": {
    "execution": {
     "iopub.execute_input": "2020-11-30T05:00:24.586042Z",
     "iopub.status.busy": "2020-11-30T05:00:24.585042Z",
     "iopub.status.idle": "2020-11-30T05:00:24.606043Z",
     "shell.execute_reply": "2020-11-30T05:00:24.606043Z",
     "shell.execute_reply.started": "2020-11-30T05:00:24.586042Z"
    }
   },
   "outputs": [
    {
     "data": {
      "text/html": [
       "<div>\n",
       "<style scoped>\n",
       "    .dataframe tbody tr th:only-of-type {\n",
       "        vertical-align: middle;\n",
       "    }\n",
       "\n",
       "    .dataframe tbody tr th {\n",
       "        vertical-align: top;\n",
       "    }\n",
       "\n",
       "    .dataframe thead th {\n",
       "        text-align: right;\n",
       "    }\n",
       "</style>\n",
       "<table border=\"1\" class=\"dataframe\">\n",
       "  <thead>\n",
       "    <tr style=\"text-align: right;\">\n",
       "      <th></th>\n",
       "      <th>id</th>\n",
       "      <th>title</th>\n",
       "      <th>author</th>\n",
       "      <th>text</th>\n",
       "      <th>label</th>\n",
       "    </tr>\n",
       "  </thead>\n",
       "  <tbody>\n",
       "    <tr>\n",
       "      <th>0</th>\n",
       "      <td>0</td>\n",
       "      <td>House Dem Aide: We Didn’t Even See Comey’s Let...</td>\n",
       "      <td>Darrell Lucus</td>\n",
       "      <td>House Dem Aide We Didnt Even See Comeys Letter...</td>\n",
       "      <td>1</td>\n",
       "    </tr>\n",
       "    <tr>\n",
       "      <th>1</th>\n",
       "      <td>1</td>\n",
       "      <td>FLYNN: Hillary Clinton, Big Woman on Campus - ...</td>\n",
       "      <td>Daniel J. Flynn</td>\n",
       "      <td>Ever get the feeling your life circles the rou...</td>\n",
       "      <td>0</td>\n",
       "    </tr>\n",
       "    <tr>\n",
       "      <th>2</th>\n",
       "      <td>2</td>\n",
       "      <td>Why the Truth Might Get You Fired</td>\n",
       "      <td>Consortiumnews.com</td>\n",
       "      <td>Why the Truth Might Get You Fired October 29 2...</td>\n",
       "      <td>1</td>\n",
       "    </tr>\n",
       "    <tr>\n",
       "      <th>3</th>\n",
       "      <td>3</td>\n",
       "      <td>15 Civilians Killed In Single US Airstrike Hav...</td>\n",
       "      <td>Jessica Purkiss</td>\n",
       "      <td>Videos 15 Civilians Killed In Single US Airstr...</td>\n",
       "      <td>1</td>\n",
       "    </tr>\n",
       "    <tr>\n",
       "      <th>4</th>\n",
       "      <td>4</td>\n",
       "      <td>Iranian woman jailed for fictional unpublished...</td>\n",
       "      <td>Howard Portnoy</td>\n",
       "      <td>Print An Iranian woman has been sentenced to s...</td>\n",
       "      <td>1</td>\n",
       "    </tr>\n",
       "  </tbody>\n",
       "</table>\n",
       "</div>"
      ],
      "text/plain": [
       "   id                                              title              author  \\\n",
       "0   0  House Dem Aide: We Didn’t Even See Comey’s Let...       Darrell Lucus   \n",
       "1   1  FLYNN: Hillary Clinton, Big Woman on Campus - ...     Daniel J. Flynn   \n",
       "2   2                  Why the Truth Might Get You Fired  Consortiumnews.com   \n",
       "3   3  15 Civilians Killed In Single US Airstrike Hav...     Jessica Purkiss   \n",
       "4   4  Iranian woman jailed for fictional unpublished...      Howard Portnoy   \n",
       "\n",
       "                                                text  label  \n",
       "0  House Dem Aide We Didnt Even See Comeys Letter...      1  \n",
       "1  Ever get the feeling your life circles the rou...      0  \n",
       "2  Why the Truth Might Get You Fired October 29 2...      1  \n",
       "3  Videos 15 Civilians Killed In Single US Airstr...      1  \n",
       "4  Print An Iranian woman has been sentenced to s...      1  "
      ]
     },
     "execution_count": 4,
     "metadata": {},
     "output_type": "execute_result"
    }
   ],
   "source": [
    "# Get the head\n",
    "df.head()"
   ]
  },
  {
   "cell_type": "code",
   "execution_count": 5,
   "metadata": {
    "execution": {
     "iopub.execute_input": "2020-11-30T05:00:25.034858Z",
     "iopub.status.busy": "2020-11-30T05:00:25.033855Z",
     "iopub.status.idle": "2020-11-30T05:00:25.060856Z",
     "shell.execute_reply": "2020-11-30T05:00:25.059855Z",
     "shell.execute_reply.started": "2020-11-30T05:00:25.034858Z"
    }
   },
   "outputs": [
    {
     "data": {
      "text/html": [
       "<div>\n",
       "<style scoped>\n",
       "    .dataframe tbody tr th:only-of-type {\n",
       "        vertical-align: middle;\n",
       "    }\n",
       "\n",
       "    .dataframe tbody tr th {\n",
       "        vertical-align: top;\n",
       "    }\n",
       "\n",
       "    .dataframe thead th {\n",
       "        text-align: right;\n",
       "    }\n",
       "</style>\n",
       "<table border=\"1\" class=\"dataframe\">\n",
       "  <thead>\n",
       "    <tr style=\"text-align: right;\">\n",
       "      <th></th>\n",
       "      <th>id</th>\n",
       "      <th>title</th>\n",
       "      <th>author</th>\n",
       "      <th>text</th>\n",
       "      <th>label</th>\n",
       "    </tr>\n",
       "  </thead>\n",
       "  <tbody>\n",
       "    <tr>\n",
       "      <th>0</th>\n",
       "      <td>0</td>\n",
       "      <td>House Dem Aide: We Didn’t Even See Comey’s Let...</td>\n",
       "      <td>Darrell Lucus</td>\n",
       "      <td>House Dem Aide We Didnt Even See Comeys Letter...</td>\n",
       "      <td>FAKE</td>\n",
       "    </tr>\n",
       "    <tr>\n",
       "      <th>1</th>\n",
       "      <td>1</td>\n",
       "      <td>FLYNN: Hillary Clinton, Big Woman on Campus - ...</td>\n",
       "      <td>Daniel J. Flynn</td>\n",
       "      <td>Ever get the feeling your life circles the rou...</td>\n",
       "      <td>REAL</td>\n",
       "    </tr>\n",
       "    <tr>\n",
       "      <th>2</th>\n",
       "      <td>2</td>\n",
       "      <td>Why the Truth Might Get You Fired</td>\n",
       "      <td>Consortiumnews.com</td>\n",
       "      <td>Why the Truth Might Get You Fired October 29 2...</td>\n",
       "      <td>FAKE</td>\n",
       "    </tr>\n",
       "    <tr>\n",
       "      <th>3</th>\n",
       "      <td>3</td>\n",
       "      <td>15 Civilians Killed In Single US Airstrike Hav...</td>\n",
       "      <td>Jessica Purkiss</td>\n",
       "      <td>Videos 15 Civilians Killed In Single US Airstr...</td>\n",
       "      <td>FAKE</td>\n",
       "    </tr>\n",
       "    <tr>\n",
       "      <th>4</th>\n",
       "      <td>4</td>\n",
       "      <td>Iranian woman jailed for fictional unpublished...</td>\n",
       "      <td>Howard Portnoy</td>\n",
       "      <td>Print An Iranian woman has been sentenced to s...</td>\n",
       "      <td>FAKE</td>\n",
       "    </tr>\n",
       "  </tbody>\n",
       "</table>\n",
       "</div>"
      ],
      "text/plain": [
       "   id                                              title              author  \\\n",
       "0   0  House Dem Aide: We Didn’t Even See Comey’s Let...       Darrell Lucus   \n",
       "1   1  FLYNN: Hillary Clinton, Big Woman on Campus - ...     Daniel J. Flynn   \n",
       "2   2                  Why the Truth Might Get You Fired  Consortiumnews.com   \n",
       "3   3  15 Civilians Killed In Single US Airstrike Hav...     Jessica Purkiss   \n",
       "4   4  Iranian woman jailed for fictional unpublished...      Howard Portnoy   \n",
       "\n",
       "                                                text label  \n",
       "0  House Dem Aide We Didnt Even See Comeys Letter...  FAKE  \n",
       "1  Ever get the feeling your life circles the rou...  REAL  \n",
       "2  Why the Truth Might Get You Fired October 29 2...  FAKE  \n",
       "3  Videos 15 Civilians Killed In Single US Airstr...  FAKE  \n",
       "4  Print An Iranian woman has been sentenced to s...  FAKE  "
      ]
     },
     "execution_count": 5,
     "metadata": {},
     "output_type": "execute_result"
    }
   ],
   "source": [
    "# Change the labels\n",
    "df.loc[(df['label'] == 1) , ['label']] = 'FAKE'\n",
    "df.loc[(df['label'] == 0) , ['label']] = 'REAL'\n",
    "df.head()"
   ]
  },
  {
   "cell_type": "code",
   "execution_count": 6,
   "metadata": {
    "execution": {
     "iopub.execute_input": "2020-11-30T05:00:26.326568Z",
     "iopub.status.busy": "2020-11-30T05:00:26.326568Z",
     "iopub.status.idle": "2020-11-30T05:00:26.346563Z",
     "shell.execute_reply": "2020-11-30T05:00:26.345562Z",
     "shell.execute_reply.started": "2020-11-30T05:00:26.326568Z"
    }
   },
   "outputs": [
    {
     "data": {
      "text/plain": [
       "0    FAKE\n",
       "1    REAL\n",
       "2    FAKE\n",
       "3    FAKE\n",
       "4    FAKE\n",
       "Name: label, dtype: object"
      ]
     },
     "execution_count": 6,
     "metadata": {},
     "output_type": "execute_result"
    }
   ],
   "source": [
    "# Isolate the labels\n",
    "labels = df.label\n",
    "labels.head()"
   ]
  },
  {
   "cell_type": "code",
   "execution_count": 7,
   "metadata": {
    "execution": {
     "iopub.execute_input": "2020-11-30T05:00:26.940247Z",
     "iopub.status.busy": "2020-11-30T05:00:26.940247Z",
     "iopub.status.idle": "2020-11-30T05:00:38.636682Z",
     "shell.execute_reply": "2020-11-30T05:00:38.625301Z",
     "shell.execute_reply.started": "2020-11-30T05:00:26.940247Z"
    }
   },
   "outputs": [],
   "source": [
    "x_train,x_test,y_train,y_test=train_test_split(df['text'].values.astype('str'), labels, test_size=0.2, random_state=7)"
   ]
  },
  {
   "cell_type": "code",
   "execution_count": 8,
   "metadata": {
    "execution": {
     "iopub.execute_input": "2020-11-30T05:00:38.714548Z",
     "iopub.status.busy": "2020-11-30T05:00:38.713547Z",
     "iopub.status.idle": "2020-11-30T05:00:38.743549Z",
     "shell.execute_reply": "2020-11-30T05:00:38.743549Z",
     "shell.execute_reply.started": "2020-11-30T05:00:38.714548Z"
    }
   },
   "outputs": [],
   "source": [
    "#Initialize a TfidfVectorizer\n",
    "tfidf_vectorizer=TfidfVectorizer(stop_words='english')"
   ]
  },
  {
   "cell_type": "code",
   "execution_count": 9,
   "metadata": {
    "execution": {
     "iopub.execute_input": "2020-11-30T05:00:39.315835Z",
     "iopub.status.busy": "2020-11-30T05:00:39.315835Z",
     "iopub.status.idle": "2020-11-30T05:00:46.402298Z",
     "shell.execute_reply": "2020-11-30T05:00:46.401298Z",
     "shell.execute_reply.started": "2020-11-30T05:00:39.315835Z"
    }
   },
   "outputs": [],
   "source": [
    "# Fit & transform train set, transform test set\n",
    "tfidf_train=tfidf_vectorizer.fit_transform(x_train) \n",
    "tfidf_test=tfidf_vectorizer.transform(x_test)"
   ]
  },
  {
   "cell_type": "code",
   "execution_count": 10,
   "metadata": {
    "execution": {
     "iopub.execute_input": "2020-11-30T05:00:46.405298Z",
     "iopub.status.busy": "2020-11-30T05:00:46.405298Z",
     "iopub.status.idle": "2020-11-30T05:00:46.529991Z",
     "shell.execute_reply": "2020-11-30T05:00:46.528991Z",
     "shell.execute_reply.started": "2020-11-30T05:00:46.405298Z"
    }
   },
   "outputs": [
    {
     "data": {
      "text/plain": [
       "PassiveAggressiveClassifier(max_iter=50, random_state=0)"
      ]
     },
     "execution_count": 10,
     "metadata": {},
     "output_type": "execute_result"
    }
   ],
   "source": [
    "\n",
    "# Initialize the PassiveAggressiveClassifier and fit training sets\n",
    "pa_classifier=PassiveAggressiveClassifier(max_iter=50, random_state=0)\n",
    "pa_classifier.fit(tfidf_train,y_train)"
   ]
  },
  {
   "cell_type": "code",
   "execution_count": 11,
   "metadata": {
    "execution": {
     "iopub.execute_input": "2020-11-30T05:00:46.531992Z",
     "iopub.status.busy": "2020-11-30T05:00:46.530991Z",
     "iopub.status.idle": "2020-11-30T05:00:46.561992Z",
     "shell.execute_reply": "2020-11-30T05:00:46.560991Z",
     "shell.execute_reply.started": "2020-11-30T05:00:46.531992Z"
    }
   },
   "outputs": [
    {
     "name": "stdout",
     "output_type": "stream",
     "text": [
      "Accuracy: 100.0%\n"
     ]
    }
   ],
   "source": [
    "# Predict and calculate training accuracy\n",
    "y_pred=pa_classifier.predict(tfidf_train)\n",
    "score=accuracy_score(y_train,y_pred)\n",
    "print(f'Accuracy: {round(score*100,2)}%')"
   ]
  },
  {
   "cell_type": "code",
   "execution_count": 12,
   "metadata": {
    "execution": {
     "iopub.execute_input": "2020-11-30T05:00:46.563995Z",
     "iopub.status.busy": "2020-11-30T05:00:46.563995Z",
     "iopub.status.idle": "2020-11-30T05:00:46.576994Z",
     "shell.execute_reply": "2020-11-30T05:00:46.576994Z",
     "shell.execute_reply.started": "2020-11-30T05:00:46.563995Z"
    }
   },
   "outputs": [
    {
     "name": "stdout",
     "output_type": "stream",
     "text": [
      "Accuracy: 93.99%\n"
     ]
    }
   ],
   "source": [
    "# Predict and calculate testing accuracy\n",
    "y_pred=pa_classifier.predict(tfidf_test)\n",
    "score=accuracy_score(y_test,y_pred)\n",
    "print(f'Accuracy: {round(score*100,2)}%')"
   ]
  },
  {
   "cell_type": "code",
   "execution_count": 13,
   "metadata": {
    "execution": {
     "iopub.execute_input": "2020-11-30T05:00:46.578995Z",
     "iopub.status.busy": "2020-11-30T05:00:46.577994Z",
     "iopub.status.idle": "2020-11-30T05:00:46.609997Z",
     "shell.execute_reply": "2020-11-30T05:00:46.608996Z",
     "shell.execute_reply.started": "2020-11-30T05:00:46.578995Z"
    }
   },
   "outputs": [
    {
     "name": "stdout",
     "output_type": "stream",
     "text": [
      "PALO ALTO Calif After years scorning political process Silicon Valley leapt fray The prospect President Donald J Trump pushing tech community traditional role donors embrace new existence agitators activists A distinguished venture capital firm emblazoned corporate home page earthy epithet One prominent tech chieftain says consequences Mr Trumps election range disastrous terrible Another compares dictator And nearly 150 tech leaders signed open letter decrying Mr Trump campaign anger bigotry Not action Peter Thiel founder PayPal Palantir outside investor Facebook spoke Republican convention July The New York Times reported Saturday Mr Thiel giving 1 25 million support Mr Trumps candidacy supporters flee He recently gave 1 million super PAC supports Senator Rob Portman Republican freshman running Ohio Getting involved politics seen clashing Silicon Valleys value You transform world making problems obsolete solving Washington Nor entrepreneurs want alienate segment customers agree politically Such reticence longer style Were bunch nerds having lot limelight said Dave McClure investor runs tech incubator called 500 Startups But quote With great power comes great responsibility Mr McClure grew worried Republican Democratic conventions Mr Trump began catch Hillary Clinton polls He wanted Silicon Valley late month announced Nerdz4Hillary informal effort An initial group donors pledged 50 000 goal ask nerdz small donations match sum They come Were kind optimistic 50 000 weeks Mr McClure said That relatively slow pace reflects Silicon Valleys shifting position Even increasingly free opinions free checkbook The recent data late August shows Mrs Clinton taking 7 7 million tech community according Crowdpac tracks donations By point 2012 Crowdpac says President Obama raised 21 million entrepreneurs venture capitalists Reid Hoffman billionaire business networking site LinkedIn offers snapshot Silicon Valleys evolving approach politics Mr Hoffman Obama donor giving 1 million Priorities USA political action committee peers Last month Mr Hoffman garnered worldwide publicity saying donate 5 million veterans groups Mr Trump released taxes remote possibility came pass He castigated Mr Trump interviews saying speaking afraid Mr Hoffmans outright donations smaller election cycle In May gave 400 000 Hillary Victory Fund Asked recent giving shown federal election records Mr Hoffman cryptically responded email Looking PACs He declined opportunities elaborate Even Priorities USA raised 133 million election cycle far exceeding total 2012 tech contributions dwindled The familiar tech time John Doerr venture capital firm Kleiner Perkins Caufield Byers gave 500 000 The AOL Steve Case said September endorsement Mrs Clinton The Washington Post time publicly declared candidate I focused policy avoided politics said But Trump elected president I disappointed acting When wrote uncertain donating money Mrs Clinton saying probable A spokeswoman said Sunday Mr Case gave 25 000 Hillary Victory Fund Mason Harrison Crowdpacs head communications offered possible reason Mrs Clintons support Donors support candidates love defeat candidates fear said A billionaires acting instead talking Dustin Moskovitz founder Facebook said giving 20 million Democratic election efforts time wife Cari Tuna endorsed candidate He declined interviewed Part problem Mrs Clinton preferable Mr Trump tech community pales comparison President Obama After initial misgivings Silicon Valley champion There revolving door tech Obama administration previous Democratic administrations revolving door Wall Street In June President Obama suggest venture capitalist term ends Mrs Clinton enthusiastic Silicon Valley disruptive ways In speech summer 2015 noted gig economy Uber Airbnb ilk unleashing innovation raising hard questions workplace protection good job look like future The Clinton campaign declined comment The Trump campaign respond query Even Silicon Valley works Mr Trump quiet acknowledgment campaign bared important issues In endorsement month Mrs Clinton venture capital firm Union Square Ventures pointed benefits technology globalization evenly distributed needed change If Silicon Valleys political involvement outlasts unusual election tech community start contributing process commentary cash Not tech people going wielding influence theyre going candidate Mr McClure said Reid Hoffman Sheryl Sandberg chief operating officer Facebook bunch folks political aspirations Others inspired enter politics doors Palmer Luckey founder Oculus virtual reality company sold Facebook 2 billion Mr Luckey donated 10 000 group dedicated spreading messages Mrs Clinton online The groups billboard said outside Pittsburgh labeled Too Big Jail Mr Luckey told The Daily Beast thinking went lines Hey I bunch money I love stuff He added I thought sounded like real jolly good time Many virtual reality developers happy Mr Luckey quickly posted regrets Facebook He declined comment If going vocal live transparently said Hunter Walk venture capitalist campaign persuade tech companies workers Election Day signed nearly 300 firms including Spotify SurveyMonkey TaskRabbit There period adjustment But vocal temporary condition The venture firm CRV spotlight end August blunt message included earthy epithet A weeks later cleaned website The partners went employing publicist seek attention declining interviews We reached wanted reach hopefully influenced opinions said Saar Gur CRV venture capitalist Then buzz died went day jobs super busy\n",
      "\n",
      "The news is: REAL\n",
      "Have seen proHillary TV ad disgraced Gen John Allen Nauseating You know 2011 Allen 4star general US Marine Corps nominated NATOs Supreme Allied Commander Europe pending confirmation Senate On November 13 2012 Defense Secretary Leon Panetta suspended Allens confirmation hearing pending investigations generals inappropriate communication woman named Jill Kelley Gen John Allen l Jill Kelley r As fallout Gen David Petraeus Paula Broadwell affair FBI uncovered 20000 30000 pages correspondence email Allen Kelley 2010 2012 Reportedly correspondence flirtatious inappropriate Allen Kelley married time Seriously 4star general free time write 20000 30000 emails space years ANYONE 20000 emails mean average 28 emails day exchanged Allen Kelley 30000 emails mean average 42 emails day There Ive exchanged 28 emails day 42 emails The upshot Not John Allen lose confirmation NATOs Supreme Allied Commander lost job Commander US forces Afghanistan post promoted replace disgraced Gen Petraeus See Obama purges US military command Part 1 Allen retired military February 2013 appointed Special Presidential Envoy Global Coalition Counter ISIL ISIS post title created Allen Obama Allen held year September 2014 October 23 2015 Allen featured speaker 2016 Democratic National Convention Philadelphia He criticized Donald Trump endorsed Hillary Clinton abandoned Americans die Benghazi President Like New Yorker Trump fired calling Allen failed general Trump endorsement 184 nonfailed nondisgraced US generals admirals including 4star fourteen 3star flag officers endorsement 14 Medal Honor recipients The endorsements began open letter Sept 6 2016 88 retired US general admirals The 2016 election affords American people urgently needed opportunity longoverdue course correction national security posture policy As retired senior leaders Americas military believe change deeply involved substantially responsible hollowing military burgeoning threats facing country world For reason support Donald Trumps candidacy CommanderinChief For past years Americas armed forces subjected series illconsidered debilitating budget cuts policy choices combat operations left superb men women uniform capable performing vital missions future require Simultaneously enemies country emboldened sensing weakness irresolution Washington opportunities aggression expense freedomloving nations In professional judgment combined effect potentially extremely perilous That especially case government persists practices brought present pass For reason support Donald Trump commitment rebuild military secure borders defeat Islamic supremacist adversaries restore law order domestically We urge fellow Americans Two days later Sept 8 21 retired US generals admirals joined list followed 31 day Sept 9 44 Sept 16 bringing total number flag officers endorsed Trump 184 Below list Sept 16 2016 retired US generals admirals endorsing Trump President CommanderInChief General Burwell B Bell III US Army Retired General Alfred G Hansen US Air Force Retired Admiral Jerry Johnson US Navy Retired Lieutenant General William G Boykin US Army Retired Lieutenant General Marvin Covault US Army Retired Lieutenant General Brett Dula US Air Force Retired Lieutenant General Dan Duren US Air Force Retired Lieutenant General Harold T Fields US Army Retired Lieutenant General Bruce L Fister US Air Force Retired Lieutenant General Michael Flynn US Army Retired Lieutenant General Gordon E Fornell US Air Force Retired Lieutenant Jay Garner US Army Retired Lieutenant General Ron Hite US Army Retired Lieutenant Generals John I Hudson USMC Retired Lieutenant General Harley Hughes US Air Force Retired Lieutenant General Keith Kellogg US Army Retired Lieutenant General Timothy A Kinnan US Air Force Retired Lieutenant General Joe Kinzer US Army US Army Retired Lieutenant General Bennett L Lewis US Army Retired Lieutenant General Frederick McCorkle US MC Retired Lieutenant General Thomas McInerney US Air Force Retired Lieutenant General Clifford H Rees Jr US Air Force Retired Lieutenant James C Riley US Army Retired Lieutenant General Hugh G Smith US Army Retired Lieutenant General John B Sylvester US Army Retired Lieutenant General David J Teal US Air Force Retired Lieutenant General William E Thurman US Air Force Retired Lieutenant General Jack Woodward US Air Force Retired Vice Admiral Mike Bucchi US Navy Retired Vice Admiral Edward Clexton Jr US Navy Retired Vice Admiral Bernard M Kauderer US Navy Retired Vice Admiral J Theodore Parker US Navy Retired Vice Admiral RFSchoultz US Navy Retired Vice Admiral Robert Spane US Navy Retired Vice Admiral Donald Thompson US Coast Guard Retired Vice Admiral Howard B Thorsen US Coast Guard Retired Vice Admiral John Totushek US Navy Retired Vice Admiral Jerry Unruh US Navy Retired Major General Joe Arbuckle US Army Retired Major General John Bianchi CSMR Retired Major General Pat Brady US Army Retired Major General Bobby G Butcher US Marine Corps Retired Major General Henry D Canterbury US Air Force Retired Major General Carroll D Childers US Army Retired Major General Jeffrey Cliver US Air Force Retired Major General Tommy F Crawford US Air Force Retired Major General Harley Davis US Army Retired Major General Felix Dupre US Air Force Retired Major General Neil Eddins US Air Force Retired Major General David W Eidsaune US Air Force Retired Major General John R Farrington US Air Force Retired Major General Dave Garza US Marine Corps Retired Major General William A Gorton US Air Force Retired Major General Kenneth Hagemann US Air Force Retired Major General Gary L Harrell US Army Retired Major General Geoffrey Higginbothan US Marine Corps Retired Major General Kent HillhouseUS Army Retired Major General Jerry D Holmes US Air Force Retired Major General John A Leide US Army Retired Major General James E Livingston USMC Retired Major General John D Logeman Jr US Air Force Retired Major General Homer S Long US Army Retired Major General Billy McCoy US Air Force Retired Major General Robert Messerli US Air Force Retired Major General John Miller US Air Force Retired Major General Ray OMara US Air Force Retired Major General George WNordie Norwood US Air Force Retired Major General Robert W Paret US Air Force MC Retired Major General James W Parker US Army Retired Major General Richard Perraut US Air Force Retired Major General RV Secord US Air Force Retired Major General Sidney Shachnow US Army Retired Major General Edison E Scholes US Army Retired Major General Richard A ScholtesUS Army Retired Major General Mark Solo US Air Force Retired Major General James N Stewart US Air Force Retired Major General Michael Sullivan US MC Retired Major General Thomas R Tempel US Army Retired Major General Richard L Testa US Air Force Retired Major General Paul E Vallely US Army Retired Major General John Welde US Air Force Retired Major General Kenneth W Weir US Marine Corps Retired Major General Michael Wiedemer US Air Force Retired Rear Admiral Phillip Anselmo US Navy Retired Rear Admiral Peter Booth US NavyRetired Rear Admiral Thomas F Brown III US Navy Retired Rear Admiral James J CareyUS Navy Retired Rear Admiral Larry Chambers US Navy Retired Rear Admiral Robert C Crates SC US Navy Retired Rear Admiral Mimi Drew US Navy Retired Rear Admiral Ernest Elliot SC US Navy Retired Rear Admiral James H Flatley III US Navy Retired Rear Admiral Vance H Fry SC US Navy Retired Rear Admiral Byron Fuller US Navy Retired Rear Admiral George M Furlong US Navy Retired Rear Admiral Albert Gallotta Jr US Navy Retired Rear Admiral Michael R Groothousen US Navy Retired Rear Admiral William A Guereck US Navy Retired Rear Admiral Dale Hagen US Navy Retired Rear Admiral John G Hekman US Navy Retired Rear Admiral Charles F Horne III US Navy Retired Rear Admiral William P Houley US Navy Retired Rear Admiral Grady L Jackson US Navy Retired Rear Admiral J Adrian Jackson US Navy Retired Rear Admiral Frederick C Johnson US Navy Retired Rear Admiral Pierce J Johnson US Navy Retired Rear Admiral Jack Kavanaugh SC US Navy Retired Rear Admiral Charles RKubic US Navy Retired Rear Admiral Rich Landolt US Navy Retired Rear Admiral Don Loren US Navy Retired Rear Admiral William J McDaniel MD US Navy Retired Rear Admiral ES McGinley II US Navy Retired Rear Admiral Fred Metz US Navy Retired Rear Admiral Douglas M Moore Jr SC US Navy Retired Rear Admiral John A Moriarty US Navy Retired Rear Admiral David R Morris US Navy Retired Rear Admiral James A Mozart SC US Navy Retired Rear Admiral Ed Nelson US Coast Guard Retired Rear Admiral Philip R Olsen US Navy Retired Rear Admiral Robert S Owens US Navy Retired Rear Admiral Robert PassmoreUS Navy Retired Rear Admiral WW Pickavance Jr US Navy Retired Rear Admiral Leonard F Picotte US Navy Retired Rear Admiral Brian C Prindle US Navy Retired Rear Admiral Mike Roesner SC USN Retired Rear Admiral William J Ryan US Navy Retired Rear Admiral William L Schachte Jr US Navy JAGC Retired Rear Admiral William R Schmidt US Navy Retired Rear Admiral William H Shawcross US Navy Retired Rear Admiral Hugh P Scott US Navy MC Retired Rear Admiral Gregory Slavonic US Navy Retired Rear Admiral Paul Sutherland US Navy Retired Rear Admiral Charles Williams US Navy Retired Rear Admiral H Denny Wisely US Navy Retired Rear Admiral Theodore J Wojnar US Coast Guard Retired Brigadier General Charles L Bishop US Army Retired Brigadier General Remo Butler US Army Retired Brigadier General Jimmy L Cash US Air Force Retired Brigadier General George P Cole Jr US Air Force Retired Brigadier General Philip M Drew US Air Force Retired Brigadier General Jerome V Foust US Army Retired Brigadier General Norman Ham US Air Force Retired Brigadier General Thomas W Honeywill US Air Force Retired Brigadier General Charles Jones US Air Force Retired Brigadier General Gary M Jones US Army Retired Brigadier General James M Johnston III US Air Force Retired Brigadier General Thomas J Lennon US Air Force Retired Brigadier General Bruce Miketinac US Army Retired Brigadier General Bert Mizusawa US Army Retired Brigadier General Harold C Morgan US Air Force Retired Brigadier General Stephen Mundt US Army Retired Brigadier General Mike Neil US Marines Corps Retired Brigadier general Robert V Paschon US Air Force Retired Brigadier General Mark D Scraba US Army Retired Brigadier General George L Schulstad US Air Force Retired Brigadier General Richard M Tabor US Army retired Brigadier General Hugh B Tant III US Army Retired Brigadier General Troy Tolbert US Air Force Retired Brigadier General Robert F Titus US Air Force Retired Brigadier General William O Walsh US Air Force Retired Brigadier General Robert V Woods US Air Force Retired Admiral James Ace Lyons Retired\n",
      "\n",
      "The news is: FAKE\n"
     ]
    }
   ],
   "source": [
    "#SELF INPUT\n",
    "news_index_num = 0 #Put any number between 0 to 996\n",
    "tfidf_self_input=tfidf_vectorizer.transform([req_df['text'].iloc[news_index_num]])\n",
    "print(req_df.text.iloc[news_index_num])\n",
    "print('\\nThe news is:',pa_classifier.predict(tfidf_self_input)[0])\n",
    "\n",
    "#SELF INPUT\n",
    "news_index_num = 10 #Put any number between 0 to 996\n",
    "tfidf_self_input=tfidf_vectorizer.transform([req_df['text'].iloc[news_index_num]])\n",
    "print(req_df.text.iloc[news_index_num])\n",
    "print('\\nThe news is:',pa_classifier.predict(tfidf_self_input)[0])"
   ]
  },
  {
   "cell_type": "code",
   "execution_count": 14,
   "metadata": {
    "execution": {
     "iopub.execute_input": "2020-11-30T05:00:46.611997Z",
     "iopub.status.busy": "2020-11-30T05:00:46.610998Z",
     "iopub.status.idle": "2020-11-30T05:00:46.625997Z",
     "shell.execute_reply": "2020-11-30T05:00:46.624996Z",
     "shell.execute_reply.started": "2020-11-30T05:00:46.611997Z"
    }
   },
   "outputs": [],
   "source": [
    "# new_news = ['Donald Trump died yesterday']\n",
    "# new_news_tfidf=tfidf_vectorizer.transform(new_news)\n",
    "# print('Donald Trump died yesterday:',pa_classifier.predict(new_news_tfidf)[0])\n",
    "\n",
    "# new_news = ['FLYNN: Hillary Clinton, Big Woman on Campus - Breitbart']\n",
    "# new_news_tfidf=tfidf_vectorizer.transform(new_news)\n",
    "# print('FLYNN: Hillary Clinton, Big Woman on Campus - Breitbart:',pa_classifier.predict(new_news_tfidf)[0])"
   ]
  },
  {
   "cell_type": "code",
   "execution_count": 15,
   "metadata": {
    "execution": {
     "iopub.execute_input": "2020-11-30T05:00:46.626999Z",
     "iopub.status.busy": "2020-11-30T05:00:46.626999Z",
     "iopub.status.idle": "2020-11-30T05:00:46.641999Z",
     "shell.execute_reply": "2020-11-30T05:00:46.640998Z",
     "shell.execute_reply.started": "2020-11-30T05:00:46.626999Z"
    }
   },
   "outputs": [],
   "source": [
    "# Build confusion matrix\n",
    "# confusion_matrix(y_test,y_pred, labels=['FAKE','REAL'])\n"
   ]
  },
  {
   "cell_type": "code",
   "execution_count": 16,
   "metadata": {
    "execution": {
     "iopub.execute_input": "2020-11-30T05:00:46.644000Z",
     "iopub.status.busy": "2020-11-30T05:00:46.644000Z",
     "iopub.status.idle": "2020-11-30T05:00:46.656999Z",
     "shell.execute_reply": "2020-11-30T05:00:46.655999Z",
     "shell.execute_reply.started": "2020-11-30T05:00:46.644000Z"
    }
   },
   "outputs": [],
   "source": [
    "# from sklearn.metrics import accuracy_score\n",
    "# from sklearn.metrics import precision_score\n",
    "# from sklearn.metrics import recall_score\n",
    "# from sklearn.metrics import f1_score\n",
    "# from sklearn.metrics import confusion_matrix\n",
    "\n",
    "# # accuracy: (tp + tn) / (p + n)\n",
    "# accuracy = accuracy_score(y_test, y_pred)\n",
    "# print('Accuracy: %f' % accuracy)\n",
    "# # precision tp / (tp + fp)\n",
    "# precision = precision_score(y_test, y_pred)\n",
    "# print('Precision: %f' % precision)\n",
    "# # recall: tp / (tp + fn)\n",
    "# recall = recall_score(y_test, y_pred)\n",
    "# print('Recall: %f' % recall)\n",
    "# # f1: 2 tp / (2 tp + fp + fn)\n",
    "# f1 = f1_score(y_test, y_pred)\n",
    "# print('F1 score: %f' % f1)"
   ]
  },
  {
   "cell_type": "code",
   "execution_count": 17,
   "metadata": {
    "execution": {
     "iopub.execute_input": "2020-11-30T05:00:46.980053Z",
     "iopub.status.busy": "2020-11-30T05:00:46.979055Z",
     "iopub.status.idle": "2020-11-30T05:00:47.720108Z",
     "shell.execute_reply": "2020-11-30T05:00:47.719104Z",
     "shell.execute_reply.started": "2020-11-30T05:00:46.980053Z"
    }
   },
   "outputs": [
    {
     "name": "stdout",
     "output_type": "stream",
     "text": [
      "Coefficient of model : [[-0.03061568  3.02209045  0.0235154  ... -0.00833129  0.00373136\n",
      "  -0.01901582]]\n",
      "Intercept of model [-1.07918804]\n",
      "accuracy_score on train dataset :  0.9754447506890503\n",
      "accuracy_score on test dataset :  0.9338677354709419\n"
     ]
    }
   ],
   "source": [
    "# importing required libraries\n",
    "import pandas as pd\n",
    "from sklearn.linear_model import LogisticRegression\n",
    "from sklearn.metrics import accuracy_score\n",
    "\n",
    "model = LogisticRegression(random_state=0)\n",
    "\n",
    "x_train = tfidf_train\n",
    "x_test = tfidf_test\n",
    "\n",
    "# fit the model with the training data\n",
    "model.fit(x_train,y_train)\n",
    "\n",
    "# coefficeints of the trained model\n",
    "#print('Coefficient of model :', model.coef_)\n",
    "\n",
    "# intercept of the model\n",
    "#print('Intercept of model',model.intercept_)\n",
    "\n",
    "# predict the target on the train dataset\n",
    "predict_train = model.predict(x_train)\n",
    "# print('Target on train data',predict_train) \n",
    "\n",
    "# Accuray Score on train dataset\n",
    "accuracy_train = accuracy_score(y_train,predict_train)\n",
    "print('accuracy_score on train dataset : ', accuracy_train)\n",
    "\n",
    "# predict the target on the test dataset\n",
    "predict_test = model.predict(x_test)\n",
    "# print('Target on test data',predict_test) \n",
    "\n",
    "# Accuracy Score on test dataset\n",
    "accuracy_test = accuracy_score(y_test,predict_test)\n",
    "print('accuracy_score on test dataset : ', accuracy_test)"
   ]
  },
  {
   "cell_type": "code",
   "execution_count": 18,
   "metadata": {
    "execution": {
     "iopub.execute_input": "2020-11-30T05:00:47.832115Z",
     "iopub.status.busy": "2020-11-30T05:00:47.831116Z",
     "iopub.status.idle": "2020-11-30T05:00:47.861116Z",
     "shell.execute_reply": "2020-11-30T05:00:47.861116Z",
     "shell.execute_reply.started": "2020-11-30T05:00:47.832115Z"
    }
   },
   "outputs": [
    {
     "name": "stdout",
     "output_type": "stream",
     "text": [
      "PALO ALTO Calif After years scorning political process Silicon Valley leapt fray The prospect President Donald J Trump pushing tech community traditional role donors embrace new existence agitators activists A distinguished venture capital firm emblazoned corporate home page earthy epithet One prominent tech chieftain says consequences Mr Trumps election range disastrous terrible Another compares dictator And nearly 150 tech leaders signed open letter decrying Mr Trump campaign anger bigotry Not action Peter Thiel founder PayPal Palantir outside investor Facebook spoke Republican convention July The New York Times reported Saturday Mr Thiel giving 1 25 million support Mr Trumps candidacy supporters flee He recently gave 1 million super PAC supports Senator Rob Portman Republican freshman running Ohio Getting involved politics seen clashing Silicon Valleys value You transform world making problems obsolete solving Washington Nor entrepreneurs want alienate segment customers agree politically Such reticence longer style Were bunch nerds having lot limelight said Dave McClure investor runs tech incubator called 500 Startups But quote With great power comes great responsibility Mr McClure grew worried Republican Democratic conventions Mr Trump began catch Hillary Clinton polls He wanted Silicon Valley late month announced Nerdz4Hillary informal effort An initial group donors pledged 50 000 goal ask nerdz small donations match sum They come Were kind optimistic 50 000 weeks Mr McClure said That relatively slow pace reflects Silicon Valleys shifting position Even increasingly free opinions free checkbook The recent data late August shows Mrs Clinton taking 7 7 million tech community according Crowdpac tracks donations By point 2012 Crowdpac says President Obama raised 21 million entrepreneurs venture capitalists Reid Hoffman billionaire business networking site LinkedIn offers snapshot Silicon Valleys evolving approach politics Mr Hoffman Obama donor giving 1 million Priorities USA political action committee peers Last month Mr Hoffman garnered worldwide publicity saying donate 5 million veterans groups Mr Trump released taxes remote possibility came pass He castigated Mr Trump interviews saying speaking afraid Mr Hoffmans outright donations smaller election cycle In May gave 400 000 Hillary Victory Fund Asked recent giving shown federal election records Mr Hoffman cryptically responded email Looking PACs He declined opportunities elaborate Even Priorities USA raised 133 million election cycle far exceeding total 2012 tech contributions dwindled The familiar tech time John Doerr venture capital firm Kleiner Perkins Caufield Byers gave 500 000 The AOL Steve Case said September endorsement Mrs Clinton The Washington Post time publicly declared candidate I focused policy avoided politics said But Trump elected president I disappointed acting When wrote uncertain donating money Mrs Clinton saying probable A spokeswoman said Sunday Mr Case gave 25 000 Hillary Victory Fund Mason Harrison Crowdpacs head communications offered possible reason Mrs Clintons support Donors support candidates love defeat candidates fear said A billionaires acting instead talking Dustin Moskovitz founder Facebook said giving 20 million Democratic election efforts time wife Cari Tuna endorsed candidate He declined interviewed Part problem Mrs Clinton preferable Mr Trump tech community pales comparison President Obama After initial misgivings Silicon Valley champion There revolving door tech Obama administration previous Democratic administrations revolving door Wall Street In June President Obama suggest venture capitalist term ends Mrs Clinton enthusiastic Silicon Valley disruptive ways In speech summer 2015 noted gig economy Uber Airbnb ilk unleashing innovation raising hard questions workplace protection good job look like future The Clinton campaign declined comment The Trump campaign respond query Even Silicon Valley works Mr Trump quiet acknowledgment campaign bared important issues In endorsement month Mrs Clinton venture capital firm Union Square Ventures pointed benefits technology globalization evenly distributed needed change If Silicon Valleys political involvement outlasts unusual election tech community start contributing process commentary cash Not tech people going wielding influence theyre going candidate Mr McClure said Reid Hoffman Sheryl Sandberg chief operating officer Facebook bunch folks political aspirations Others inspired enter politics doors Palmer Luckey founder Oculus virtual reality company sold Facebook 2 billion Mr Luckey donated 10 000 group dedicated spreading messages Mrs Clinton online The groups billboard said outside Pittsburgh labeled Too Big Jail Mr Luckey told The Daily Beast thinking went lines Hey I bunch money I love stuff He added I thought sounded like real jolly good time Many virtual reality developers happy Mr Luckey quickly posted regrets Facebook He declined comment If going vocal live transparently said Hunter Walk venture capitalist campaign persuade tech companies workers Election Day signed nearly 300 firms including Spotify SurveyMonkey TaskRabbit There period adjustment But vocal temporary condition The venture firm CRV spotlight end August blunt message included earthy epithet A weeks later cleaned website The partners went employing publicist seek attention declining interviews We reached wanted reach hopefully influenced opinions said Saar Gur CRV venture capitalist Then buzz died went day jobs super busy\n",
      "\n",
      "The news is: REAL\n",
      "Have seen proHillary TV ad disgraced Gen John Allen Nauseating You know 2011 Allen 4star general US Marine Corps nominated NATOs Supreme Allied Commander Europe pending confirmation Senate On November 13 2012 Defense Secretary Leon Panetta suspended Allens confirmation hearing pending investigations generals inappropriate communication woman named Jill Kelley Gen John Allen l Jill Kelley r As fallout Gen David Petraeus Paula Broadwell affair FBI uncovered 20000 30000 pages correspondence email Allen Kelley 2010 2012 Reportedly correspondence flirtatious inappropriate Allen Kelley married time Seriously 4star general free time write 20000 30000 emails space years ANYONE 20000 emails mean average 28 emails day exchanged Allen Kelley 30000 emails mean average 42 emails day There Ive exchanged 28 emails day 42 emails The upshot Not John Allen lose confirmation NATOs Supreme Allied Commander lost job Commander US forces Afghanistan post promoted replace disgraced Gen Petraeus See Obama purges US military command Part 1 Allen retired military February 2013 appointed Special Presidential Envoy Global Coalition Counter ISIL ISIS post title created Allen Obama Allen held year September 2014 October 23 2015 Allen featured speaker 2016 Democratic National Convention Philadelphia He criticized Donald Trump endorsed Hillary Clinton abandoned Americans die Benghazi President Like New Yorker Trump fired calling Allen failed general Trump endorsement 184 nonfailed nondisgraced US generals admirals including 4star fourteen 3star flag officers endorsement 14 Medal Honor recipients The endorsements began open letter Sept 6 2016 88 retired US general admirals The 2016 election affords American people urgently needed opportunity longoverdue course correction national security posture policy As retired senior leaders Americas military believe change deeply involved substantially responsible hollowing military burgeoning threats facing country world For reason support Donald Trumps candidacy CommanderinChief For past years Americas armed forces subjected series illconsidered debilitating budget cuts policy choices combat operations left superb men women uniform capable performing vital missions future require Simultaneously enemies country emboldened sensing weakness irresolution Washington opportunities aggression expense freedomloving nations In professional judgment combined effect potentially extremely perilous That especially case government persists practices brought present pass For reason support Donald Trump commitment rebuild military secure borders defeat Islamic supremacist adversaries restore law order domestically We urge fellow Americans Two days later Sept 8 21 retired US generals admirals joined list followed 31 day Sept 9 44 Sept 16 bringing total number flag officers endorsed Trump 184 Below list Sept 16 2016 retired US generals admirals endorsing Trump President CommanderInChief General Burwell B Bell III US Army Retired General Alfred G Hansen US Air Force Retired Admiral Jerry Johnson US Navy Retired Lieutenant General William G Boykin US Army Retired Lieutenant General Marvin Covault US Army Retired Lieutenant General Brett Dula US Air Force Retired Lieutenant General Dan Duren US Air Force Retired Lieutenant General Harold T Fields US Army Retired Lieutenant General Bruce L Fister US Air Force Retired Lieutenant General Michael Flynn US Army Retired Lieutenant General Gordon E Fornell US Air Force Retired Lieutenant Jay Garner US Army Retired Lieutenant General Ron Hite US Army Retired Lieutenant Generals John I Hudson USMC Retired Lieutenant General Harley Hughes US Air Force Retired Lieutenant General Keith Kellogg US Army Retired Lieutenant General Timothy A Kinnan US Air Force Retired Lieutenant General Joe Kinzer US Army US Army Retired Lieutenant General Bennett L Lewis US Army Retired Lieutenant General Frederick McCorkle US MC Retired Lieutenant General Thomas McInerney US Air Force Retired Lieutenant General Clifford H Rees Jr US Air Force Retired Lieutenant James C Riley US Army Retired Lieutenant General Hugh G Smith US Army Retired Lieutenant General John B Sylvester US Army Retired Lieutenant General David J Teal US Air Force Retired Lieutenant General William E Thurman US Air Force Retired Lieutenant General Jack Woodward US Air Force Retired Vice Admiral Mike Bucchi US Navy Retired Vice Admiral Edward Clexton Jr US Navy Retired Vice Admiral Bernard M Kauderer US Navy Retired Vice Admiral J Theodore Parker US Navy Retired Vice Admiral RFSchoultz US Navy Retired Vice Admiral Robert Spane US Navy Retired Vice Admiral Donald Thompson US Coast Guard Retired Vice Admiral Howard B Thorsen US Coast Guard Retired Vice Admiral John Totushek US Navy Retired Vice Admiral Jerry Unruh US Navy Retired Major General Joe Arbuckle US Army Retired Major General John Bianchi CSMR Retired Major General Pat Brady US Army Retired Major General Bobby G Butcher US Marine Corps Retired Major General Henry D Canterbury US Air Force Retired Major General Carroll D Childers US Army Retired Major General Jeffrey Cliver US Air Force Retired Major General Tommy F Crawford US Air Force Retired Major General Harley Davis US Army Retired Major General Felix Dupre US Air Force Retired Major General Neil Eddins US Air Force Retired Major General David W Eidsaune US Air Force Retired Major General John R Farrington US Air Force Retired Major General Dave Garza US Marine Corps Retired Major General William A Gorton US Air Force Retired Major General Kenneth Hagemann US Air Force Retired Major General Gary L Harrell US Army Retired Major General Geoffrey Higginbothan US Marine Corps Retired Major General Kent HillhouseUS Army Retired Major General Jerry D Holmes US Air Force Retired Major General John A Leide US Army Retired Major General James E Livingston USMC Retired Major General John D Logeman Jr US Air Force Retired Major General Homer S Long US Army Retired Major General Billy McCoy US Air Force Retired Major General Robert Messerli US Air Force Retired Major General John Miller US Air Force Retired Major General Ray OMara US Air Force Retired Major General George WNordie Norwood US Air Force Retired Major General Robert W Paret US Air Force MC Retired Major General James W Parker US Army Retired Major General Richard Perraut US Air Force Retired Major General RV Secord US Air Force Retired Major General Sidney Shachnow US Army Retired Major General Edison E Scholes US Army Retired Major General Richard A ScholtesUS Army Retired Major General Mark Solo US Air Force Retired Major General James N Stewart US Air Force Retired Major General Michael Sullivan US MC Retired Major General Thomas R Tempel US Army Retired Major General Richard L Testa US Air Force Retired Major General Paul E Vallely US Army Retired Major General John Welde US Air Force Retired Major General Kenneth W Weir US Marine Corps Retired Major General Michael Wiedemer US Air Force Retired Rear Admiral Phillip Anselmo US Navy Retired Rear Admiral Peter Booth US NavyRetired Rear Admiral Thomas F Brown III US Navy Retired Rear Admiral James J CareyUS Navy Retired Rear Admiral Larry Chambers US Navy Retired Rear Admiral Robert C Crates SC US Navy Retired Rear Admiral Mimi Drew US Navy Retired Rear Admiral Ernest Elliot SC US Navy Retired Rear Admiral James H Flatley III US Navy Retired Rear Admiral Vance H Fry SC US Navy Retired Rear Admiral Byron Fuller US Navy Retired Rear Admiral George M Furlong US Navy Retired Rear Admiral Albert Gallotta Jr US Navy Retired Rear Admiral Michael R Groothousen US Navy Retired Rear Admiral William A Guereck US Navy Retired Rear Admiral Dale Hagen US Navy Retired Rear Admiral John G Hekman US Navy Retired Rear Admiral Charles F Horne III US Navy Retired Rear Admiral William P Houley US Navy Retired Rear Admiral Grady L Jackson US Navy Retired Rear Admiral J Adrian Jackson US Navy Retired Rear Admiral Frederick C Johnson US Navy Retired Rear Admiral Pierce J Johnson US Navy Retired Rear Admiral Jack Kavanaugh SC US Navy Retired Rear Admiral Charles RKubic US Navy Retired Rear Admiral Rich Landolt US Navy Retired Rear Admiral Don Loren US Navy Retired Rear Admiral William J McDaniel MD US Navy Retired Rear Admiral ES McGinley II US Navy Retired Rear Admiral Fred Metz US Navy Retired Rear Admiral Douglas M Moore Jr SC US Navy Retired Rear Admiral John A Moriarty US Navy Retired Rear Admiral David R Morris US Navy Retired Rear Admiral James A Mozart SC US Navy Retired Rear Admiral Ed Nelson US Coast Guard Retired Rear Admiral Philip R Olsen US Navy Retired Rear Admiral Robert S Owens US Navy Retired Rear Admiral Robert PassmoreUS Navy Retired Rear Admiral WW Pickavance Jr US Navy Retired Rear Admiral Leonard F Picotte US Navy Retired Rear Admiral Brian C Prindle US Navy Retired Rear Admiral Mike Roesner SC USN Retired Rear Admiral William J Ryan US Navy Retired Rear Admiral William L Schachte Jr US Navy JAGC Retired Rear Admiral William R Schmidt US Navy Retired Rear Admiral William H Shawcross US Navy Retired Rear Admiral Hugh P Scott US Navy MC Retired Rear Admiral Gregory Slavonic US Navy Retired Rear Admiral Paul Sutherland US Navy Retired Rear Admiral Charles Williams US Navy Retired Rear Admiral H Denny Wisely US Navy Retired Rear Admiral Theodore J Wojnar US Coast Guard Retired Brigadier General Charles L Bishop US Army Retired Brigadier General Remo Butler US Army Retired Brigadier General Jimmy L Cash US Air Force Retired Brigadier General George P Cole Jr US Air Force Retired Brigadier General Philip M Drew US Air Force Retired Brigadier General Jerome V Foust US Army Retired Brigadier General Norman Ham US Air Force Retired Brigadier General Thomas W Honeywill US Air Force Retired Brigadier General Charles Jones US Air Force Retired Brigadier General Gary M Jones US Army Retired Brigadier General James M Johnston III US Air Force Retired Brigadier General Thomas J Lennon US Air Force Retired Brigadier General Bruce Miketinac US Army Retired Brigadier General Bert Mizusawa US Army Retired Brigadier General Harold C Morgan US Air Force Retired Brigadier General Stephen Mundt US Army Retired Brigadier General Mike Neil US Marines Corps Retired Brigadier general Robert V Paschon US Air Force Retired Brigadier General Mark D Scraba US Army Retired Brigadier General George L Schulstad US Air Force Retired Brigadier General Richard M Tabor US Army retired Brigadier General Hugh B Tant III US Army Retired Brigadier General Troy Tolbert US Air Force Retired Brigadier General Robert F Titus US Air Force Retired Brigadier General William O Walsh US Air Force Retired Brigadier General Robert V Woods US Air Force Retired Admiral James Ace Lyons Retired\n",
      "\n",
      "The news is: FAKE\n"
     ]
    }
   ],
   "source": [
    "#SELF INPUT\n",
    "news_index_num = 0 #Put any number between 0 to 996\n",
    "tfidf_self_input=tfidf_vectorizer.transform([req_df['text'].iloc[news_index_num]])\n",
    "print(req_df.text.iloc[news_index_num])\n",
    "print('\\nThe news is:',model.predict(tfidf_self_input)[0])\n",
    "\n",
    "#SELF INPUT\n",
    "news_index_num = 10 #Put any number between 0 to 996\n",
    "tfidf_self_input=tfidf_vectorizer.transform([req_df['text'].iloc[news_index_num]])\n",
    "print(req_df.text.iloc[news_index_num])\n",
    "print('\\nThe news is:',model.predict(tfidf_self_input)[0])"
   ]
  },
  {
   "cell_type": "code",
   "execution_count": 19,
   "metadata": {
    "execution": {
     "iopub.execute_input": "2020-11-30T05:00:49.616608Z",
     "iopub.status.busy": "2020-11-30T05:00:49.615594Z",
     "iopub.status.idle": "2020-11-30T05:00:49.630593Z",
     "shell.execute_reply": "2020-11-30T05:00:49.629592Z",
     "shell.execute_reply.started": "2020-11-30T05:00:49.616608Z"
    }
   },
   "outputs": [],
   "source": [
    "# new_news = ['Donald Trump died yesterday']\n",
    "# new_news_tfidf=tfidf_vectorizer.transform(new_news)\n",
    "# print('Donald Trump died yesterday:',model.predict(new_news_tfidf)[0])\n",
    "\n",
    "# new_news = ['Donald Trump is the new president of America']\n",
    "# new_news_tfidf=tfidf_vectorizer.transform(new_news)\n",
    "# print('Donald Trump is the new president of America:',model.predict(new_news_tfidf)[0])"
   ]
  },
  {
   "cell_type": "code",
   "execution_count": 20,
   "metadata": {
    "execution": {
     "iopub.execute_input": "2020-11-30T05:00:49.899246Z",
     "iopub.status.busy": "2020-11-30T05:00:49.899246Z",
     "iopub.status.idle": "2020-11-30T05:00:54.285362Z",
     "shell.execute_reply": "2020-11-30T05:00:54.284362Z",
     "shell.execute_reply.started": "2020-11-30T05:00:49.899246Z"
    }
   },
   "outputs": [
    {
     "name": "stdout",
     "output_type": "stream",
     "text": [
      "Depth of the Decision Tree : 61\n",
      "accuracy_score on train dataset :  1.0\n",
      "accuracy_score on test dataset :  0.8607214428857716\n"
     ]
    }
   ],
   "source": [
    "# importing required libraries\n",
    "import pandas as pd\n",
    "from sklearn.tree import DecisionTreeClassifier\n",
    "from sklearn.metrics import accuracy_score\n",
    "\n",
    "model = DecisionTreeClassifier(random_state=0)\n",
    "\n",
    "x_train = tfidf_train\n",
    "x_test = tfidf_test\n",
    "\n",
    "# fit the model with the training data\n",
    "model.fit(x_train,y_train)\n",
    "\n",
    "# depth of the decision tree\n",
    "print('Depth of the Decision Tree :', model.get_depth())\n",
    "\n",
    "# predict the target on the train dataset\n",
    "predict_train = model.predict(x_train)\n",
    "# print('Target on train data',predict_train) \n",
    "\n",
    "# Accuray Score on train dataset\n",
    "accuracy_train = accuracy_score(y_train,predict_train)\n",
    "print('accuracy_score on train dataset : ', accuracy_train)\n",
    "\n",
    "# predict the target on the test dataset\n",
    "predict_test = model.predict(x_test)\n",
    "# print('Target on test data',predict_test) \n",
    "\n",
    "# Accuracy Score on test dataset\n",
    "accuracy_test = accuracy_score(y_test,predict_test)\n",
    "print('accuracy_score on test dataset : ', accuracy_test)"
   ]
  },
  {
   "cell_type": "code",
   "execution_count": 21,
   "metadata": {
    "execution": {
     "iopub.execute_input": "2020-11-30T05:00:54.287361Z",
     "iopub.status.busy": "2020-11-30T05:00:54.286361Z",
     "iopub.status.idle": "2020-11-30T05:00:54.317365Z",
     "shell.execute_reply": "2020-11-30T05:00:54.316364Z",
     "shell.execute_reply.started": "2020-11-30T05:00:54.287361Z"
    }
   },
   "outputs": [
    {
     "name": "stdout",
     "output_type": "stream",
     "text": [
      "PALO ALTO Calif After years scorning political process Silicon Valley leapt fray The prospect President Donald J Trump pushing tech community traditional role donors embrace new existence agitators activists A distinguished venture capital firm emblazoned corporate home page earthy epithet One prominent tech chieftain says consequences Mr Trumps election range disastrous terrible Another compares dictator And nearly 150 tech leaders signed open letter decrying Mr Trump campaign anger bigotry Not action Peter Thiel founder PayPal Palantir outside investor Facebook spoke Republican convention July The New York Times reported Saturday Mr Thiel giving 1 25 million support Mr Trumps candidacy supporters flee He recently gave 1 million super PAC supports Senator Rob Portman Republican freshman running Ohio Getting involved politics seen clashing Silicon Valleys value You transform world making problems obsolete solving Washington Nor entrepreneurs want alienate segment customers agree politically Such reticence longer style Were bunch nerds having lot limelight said Dave McClure investor runs tech incubator called 500 Startups But quote With great power comes great responsibility Mr McClure grew worried Republican Democratic conventions Mr Trump began catch Hillary Clinton polls He wanted Silicon Valley late month announced Nerdz4Hillary informal effort An initial group donors pledged 50 000 goal ask nerdz small donations match sum They come Were kind optimistic 50 000 weeks Mr McClure said That relatively slow pace reflects Silicon Valleys shifting position Even increasingly free opinions free checkbook The recent data late August shows Mrs Clinton taking 7 7 million tech community according Crowdpac tracks donations By point 2012 Crowdpac says President Obama raised 21 million entrepreneurs venture capitalists Reid Hoffman billionaire business networking site LinkedIn offers snapshot Silicon Valleys evolving approach politics Mr Hoffman Obama donor giving 1 million Priorities USA political action committee peers Last month Mr Hoffman garnered worldwide publicity saying donate 5 million veterans groups Mr Trump released taxes remote possibility came pass He castigated Mr Trump interviews saying speaking afraid Mr Hoffmans outright donations smaller election cycle In May gave 400 000 Hillary Victory Fund Asked recent giving shown federal election records Mr Hoffman cryptically responded email Looking PACs He declined opportunities elaborate Even Priorities USA raised 133 million election cycle far exceeding total 2012 tech contributions dwindled The familiar tech time John Doerr venture capital firm Kleiner Perkins Caufield Byers gave 500 000 The AOL Steve Case said September endorsement Mrs Clinton The Washington Post time publicly declared candidate I focused policy avoided politics said But Trump elected president I disappointed acting When wrote uncertain donating money Mrs Clinton saying probable A spokeswoman said Sunday Mr Case gave 25 000 Hillary Victory Fund Mason Harrison Crowdpacs head communications offered possible reason Mrs Clintons support Donors support candidates love defeat candidates fear said A billionaires acting instead talking Dustin Moskovitz founder Facebook said giving 20 million Democratic election efforts time wife Cari Tuna endorsed candidate He declined interviewed Part problem Mrs Clinton preferable Mr Trump tech community pales comparison President Obama After initial misgivings Silicon Valley champion There revolving door tech Obama administration previous Democratic administrations revolving door Wall Street In June President Obama suggest venture capitalist term ends Mrs Clinton enthusiastic Silicon Valley disruptive ways In speech summer 2015 noted gig economy Uber Airbnb ilk unleashing innovation raising hard questions workplace protection good job look like future The Clinton campaign declined comment The Trump campaign respond query Even Silicon Valley works Mr Trump quiet acknowledgment campaign bared important issues In endorsement month Mrs Clinton venture capital firm Union Square Ventures pointed benefits technology globalization evenly distributed needed change If Silicon Valleys political involvement outlasts unusual election tech community start contributing process commentary cash Not tech people going wielding influence theyre going candidate Mr McClure said Reid Hoffman Sheryl Sandberg chief operating officer Facebook bunch folks political aspirations Others inspired enter politics doors Palmer Luckey founder Oculus virtual reality company sold Facebook 2 billion Mr Luckey donated 10 000 group dedicated spreading messages Mrs Clinton online The groups billboard said outside Pittsburgh labeled Too Big Jail Mr Luckey told The Daily Beast thinking went lines Hey I bunch money I love stuff He added I thought sounded like real jolly good time Many virtual reality developers happy Mr Luckey quickly posted regrets Facebook He declined comment If going vocal live transparently said Hunter Walk venture capitalist campaign persuade tech companies workers Election Day signed nearly 300 firms including Spotify SurveyMonkey TaskRabbit There period adjustment But vocal temporary condition The venture firm CRV spotlight end August blunt message included earthy epithet A weeks later cleaned website The partners went employing publicist seek attention declining interviews We reached wanted reach hopefully influenced opinions said Saar Gur CRV venture capitalist Then buzz died went day jobs super busy\n",
      "\n",
      "The news is: REAL\n",
      "Have seen proHillary TV ad disgraced Gen John Allen Nauseating You know 2011 Allen 4star general US Marine Corps nominated NATOs Supreme Allied Commander Europe pending confirmation Senate On November 13 2012 Defense Secretary Leon Panetta suspended Allens confirmation hearing pending investigations generals inappropriate communication woman named Jill Kelley Gen John Allen l Jill Kelley r As fallout Gen David Petraeus Paula Broadwell affair FBI uncovered 20000 30000 pages correspondence email Allen Kelley 2010 2012 Reportedly correspondence flirtatious inappropriate Allen Kelley married time Seriously 4star general free time write 20000 30000 emails space years ANYONE 20000 emails mean average 28 emails day exchanged Allen Kelley 30000 emails mean average 42 emails day There Ive exchanged 28 emails day 42 emails The upshot Not John Allen lose confirmation NATOs Supreme Allied Commander lost job Commander US forces Afghanistan post promoted replace disgraced Gen Petraeus See Obama purges US military command Part 1 Allen retired military February 2013 appointed Special Presidential Envoy Global Coalition Counter ISIL ISIS post title created Allen Obama Allen held year September 2014 October 23 2015 Allen featured speaker 2016 Democratic National Convention Philadelphia He criticized Donald Trump endorsed Hillary Clinton abandoned Americans die Benghazi President Like New Yorker Trump fired calling Allen failed general Trump endorsement 184 nonfailed nondisgraced US generals admirals including 4star fourteen 3star flag officers endorsement 14 Medal Honor recipients The endorsements began open letter Sept 6 2016 88 retired US general admirals The 2016 election affords American people urgently needed opportunity longoverdue course correction national security posture policy As retired senior leaders Americas military believe change deeply involved substantially responsible hollowing military burgeoning threats facing country world For reason support Donald Trumps candidacy CommanderinChief For past years Americas armed forces subjected series illconsidered debilitating budget cuts policy choices combat operations left superb men women uniform capable performing vital missions future require Simultaneously enemies country emboldened sensing weakness irresolution Washington opportunities aggression expense freedomloving nations In professional judgment combined effect potentially extremely perilous That especially case government persists practices brought present pass For reason support Donald Trump commitment rebuild military secure borders defeat Islamic supremacist adversaries restore law order domestically We urge fellow Americans Two days later Sept 8 21 retired US generals admirals joined list followed 31 day Sept 9 44 Sept 16 bringing total number flag officers endorsed Trump 184 Below list Sept 16 2016 retired US generals admirals endorsing Trump President CommanderInChief General Burwell B Bell III US Army Retired General Alfred G Hansen US Air Force Retired Admiral Jerry Johnson US Navy Retired Lieutenant General William G Boykin US Army Retired Lieutenant General Marvin Covault US Army Retired Lieutenant General Brett Dula US Air Force Retired Lieutenant General Dan Duren US Air Force Retired Lieutenant General Harold T Fields US Army Retired Lieutenant General Bruce L Fister US Air Force Retired Lieutenant General Michael Flynn US Army Retired Lieutenant General Gordon E Fornell US Air Force Retired Lieutenant Jay Garner US Army Retired Lieutenant General Ron Hite US Army Retired Lieutenant Generals John I Hudson USMC Retired Lieutenant General Harley Hughes US Air Force Retired Lieutenant General Keith Kellogg US Army Retired Lieutenant General Timothy A Kinnan US Air Force Retired Lieutenant General Joe Kinzer US Army US Army Retired Lieutenant General Bennett L Lewis US Army Retired Lieutenant General Frederick McCorkle US MC Retired Lieutenant General Thomas McInerney US Air Force Retired Lieutenant General Clifford H Rees Jr US Air Force Retired Lieutenant James C Riley US Army Retired Lieutenant General Hugh G Smith US Army Retired Lieutenant General John B Sylvester US Army Retired Lieutenant General David J Teal US Air Force Retired Lieutenant General William E Thurman US Air Force Retired Lieutenant General Jack Woodward US Air Force Retired Vice Admiral Mike Bucchi US Navy Retired Vice Admiral Edward Clexton Jr US Navy Retired Vice Admiral Bernard M Kauderer US Navy Retired Vice Admiral J Theodore Parker US Navy Retired Vice Admiral RFSchoultz US Navy Retired Vice Admiral Robert Spane US Navy Retired Vice Admiral Donald Thompson US Coast Guard Retired Vice Admiral Howard B Thorsen US Coast Guard Retired Vice Admiral John Totushek US Navy Retired Vice Admiral Jerry Unruh US Navy Retired Major General Joe Arbuckle US Army Retired Major General John Bianchi CSMR Retired Major General Pat Brady US Army Retired Major General Bobby G Butcher US Marine Corps Retired Major General Henry D Canterbury US Air Force Retired Major General Carroll D Childers US Army Retired Major General Jeffrey Cliver US Air Force Retired Major General Tommy F Crawford US Air Force Retired Major General Harley Davis US Army Retired Major General Felix Dupre US Air Force Retired Major General Neil Eddins US Air Force Retired Major General David W Eidsaune US Air Force Retired Major General John R Farrington US Air Force Retired Major General Dave Garza US Marine Corps Retired Major General William A Gorton US Air Force Retired Major General Kenneth Hagemann US Air Force Retired Major General Gary L Harrell US Army Retired Major General Geoffrey Higginbothan US Marine Corps Retired Major General Kent HillhouseUS Army Retired Major General Jerry D Holmes US Air Force Retired Major General John A Leide US Army Retired Major General James E Livingston USMC Retired Major General John D Logeman Jr US Air Force Retired Major General Homer S Long US Army Retired Major General Billy McCoy US Air Force Retired Major General Robert Messerli US Air Force Retired Major General John Miller US Air Force Retired Major General Ray OMara US Air Force Retired Major General George WNordie Norwood US Air Force Retired Major General Robert W Paret US Air Force MC Retired Major General James W Parker US Army Retired Major General Richard Perraut US Air Force Retired Major General RV Secord US Air Force Retired Major General Sidney Shachnow US Army Retired Major General Edison E Scholes US Army Retired Major General Richard A ScholtesUS Army Retired Major General Mark Solo US Air Force Retired Major General James N Stewart US Air Force Retired Major General Michael Sullivan US MC Retired Major General Thomas R Tempel US Army Retired Major General Richard L Testa US Air Force Retired Major General Paul E Vallely US Army Retired Major General John Welde US Air Force Retired Major General Kenneth W Weir US Marine Corps Retired Major General Michael Wiedemer US Air Force Retired Rear Admiral Phillip Anselmo US Navy Retired Rear Admiral Peter Booth US NavyRetired Rear Admiral Thomas F Brown III US Navy Retired Rear Admiral James J CareyUS Navy Retired Rear Admiral Larry Chambers US Navy Retired Rear Admiral Robert C Crates SC US Navy Retired Rear Admiral Mimi Drew US Navy Retired Rear Admiral Ernest Elliot SC US Navy Retired Rear Admiral James H Flatley III US Navy Retired Rear Admiral Vance H Fry SC US Navy Retired Rear Admiral Byron Fuller US Navy Retired Rear Admiral George M Furlong US Navy Retired Rear Admiral Albert Gallotta Jr US Navy Retired Rear Admiral Michael R Groothousen US Navy Retired Rear Admiral William A Guereck US Navy Retired Rear Admiral Dale Hagen US Navy Retired Rear Admiral John G Hekman US Navy Retired Rear Admiral Charles F Horne III US Navy Retired Rear Admiral William P Houley US Navy Retired Rear Admiral Grady L Jackson US Navy Retired Rear Admiral J Adrian Jackson US Navy Retired Rear Admiral Frederick C Johnson US Navy Retired Rear Admiral Pierce J Johnson US Navy Retired Rear Admiral Jack Kavanaugh SC US Navy Retired Rear Admiral Charles RKubic US Navy Retired Rear Admiral Rich Landolt US Navy Retired Rear Admiral Don Loren US Navy Retired Rear Admiral William J McDaniel MD US Navy Retired Rear Admiral ES McGinley II US Navy Retired Rear Admiral Fred Metz US Navy Retired Rear Admiral Douglas M Moore Jr SC US Navy Retired Rear Admiral John A Moriarty US Navy Retired Rear Admiral David R Morris US Navy Retired Rear Admiral James A Mozart SC US Navy Retired Rear Admiral Ed Nelson US Coast Guard Retired Rear Admiral Philip R Olsen US Navy Retired Rear Admiral Robert S Owens US Navy Retired Rear Admiral Robert PassmoreUS Navy Retired Rear Admiral WW Pickavance Jr US Navy Retired Rear Admiral Leonard F Picotte US Navy Retired Rear Admiral Brian C Prindle US Navy Retired Rear Admiral Mike Roesner SC USN Retired Rear Admiral William J Ryan US Navy Retired Rear Admiral William L Schachte Jr US Navy JAGC Retired Rear Admiral William R Schmidt US Navy Retired Rear Admiral William H Shawcross US Navy Retired Rear Admiral Hugh P Scott US Navy MC Retired Rear Admiral Gregory Slavonic US Navy Retired Rear Admiral Paul Sutherland US Navy Retired Rear Admiral Charles Williams US Navy Retired Rear Admiral H Denny Wisely US Navy Retired Rear Admiral Theodore J Wojnar US Coast Guard Retired Brigadier General Charles L Bishop US Army Retired Brigadier General Remo Butler US Army Retired Brigadier General Jimmy L Cash US Air Force Retired Brigadier General George P Cole Jr US Air Force Retired Brigadier General Philip M Drew US Air Force Retired Brigadier General Jerome V Foust US Army Retired Brigadier General Norman Ham US Air Force Retired Brigadier General Thomas W Honeywill US Air Force Retired Brigadier General Charles Jones US Air Force Retired Brigadier General Gary M Jones US Army Retired Brigadier General James M Johnston III US Air Force Retired Brigadier General Thomas J Lennon US Air Force Retired Brigadier General Bruce Miketinac US Army Retired Brigadier General Bert Mizusawa US Army Retired Brigadier General Harold C Morgan US Air Force Retired Brigadier General Stephen Mundt US Army Retired Brigadier General Mike Neil US Marines Corps Retired Brigadier general Robert V Paschon US Air Force Retired Brigadier General Mark D Scraba US Army Retired Brigadier General George L Schulstad US Air Force Retired Brigadier General Richard M Tabor US Army retired Brigadier General Hugh B Tant III US Army Retired Brigadier General Troy Tolbert US Air Force Retired Brigadier General Robert F Titus US Air Force Retired Brigadier General William O Walsh US Air Force Retired Brigadier General Robert V Woods US Air Force Retired Admiral James Ace Lyons Retired\n",
      "\n",
      "The news is: FAKE\n"
     ]
    }
   ],
   "source": [
    "#SELF INPUT\n",
    "news_index_num = 0 #Put any number between 0 to 996\n",
    "tfidf_self_input=tfidf_vectorizer.transform([req_df['text'].iloc[news_index_num]])\n",
    "print(req_df.text.iloc[news_index_num])\n",
    "print('\\nThe news is:',model.predict(tfidf_self_input)[0])\n",
    "\n",
    "#SELF INPUT\n",
    "news_index_num = 10 #Put any number between 0 to 996\n",
    "tfidf_self_input=tfidf_vectorizer.transform([req_df['text'].iloc[news_index_num]])\n",
    "print(req_df.text.iloc[news_index_num])\n",
    "print('\\nThe news is:',model.predict(tfidf_self_input)[0])"
   ]
  },
  {
   "cell_type": "code",
   "execution_count": 22,
   "metadata": {
    "execution": {
     "iopub.execute_input": "2020-11-30T05:00:54.319365Z",
     "iopub.status.busy": "2020-11-30T05:00:54.318365Z",
     "iopub.status.idle": "2020-11-30T05:01:48.223015Z",
     "shell.execute_reply": "2020-11-30T05:01:48.222012Z",
     "shell.execute_reply.started": "2020-11-30T05:00:54.319365Z"
    }
   },
   "outputs": [
    {
     "name": "stdout",
     "output_type": "stream",
     "text": [
      "accuracy_score on train dataset :  0.9994988724630418\n",
      "accuracy_score on test dataset :  0.935871743486974\n"
     ]
    }
   ],
   "source": [
    "# importing required libraries\n",
    "import pandas as pd\n",
    "from sklearn.svm import SVC\n",
    "from sklearn.metrics import accuracy_score\n",
    "\n",
    "model = SVC(random_state=0)\n",
    "\n",
    "train_x = tfidf_train\n",
    "test_x = tfidf_test\n",
    "train_y = y_train\n",
    "test_y = y_test\n",
    "\n",
    "# fit the model with the training data\n",
    "model.fit(train_x,train_y)\n",
    "\n",
    "# predict the target on the train dataset\n",
    "predict_train = model.predict(train_x)\n",
    "# print('Target on train data',predict_train) \n",
    "\n",
    "# Accuray Score on train dataset\n",
    "accuracy_train = accuracy_score(train_y,predict_train)\n",
    "print('accuracy_score on train dataset : ', accuracy_train)\n",
    "\n",
    "# predict the target on the test dataset\n",
    "predict_test = model.predict(test_x)\n",
    "# print('Target on test data',predict_test) \n",
    "\n",
    "# Accuracy Score on test dataset\n",
    "accuracy_test = accuracy_score(test_y,predict_test)\n",
    "print('accuracy_score on test dataset : ', accuracy_test)"
   ]
  },
  {
   "cell_type": "code",
   "execution_count": 23,
   "metadata": {
    "execution": {
     "iopub.execute_input": "2020-11-30T05:01:48.225017Z",
     "iopub.status.busy": "2020-11-30T05:01:48.224015Z",
     "iopub.status.idle": "2020-11-30T05:01:48.303020Z",
     "shell.execute_reply": "2020-11-30T05:01:48.302019Z",
     "shell.execute_reply.started": "2020-11-30T05:01:48.225017Z"
    }
   },
   "outputs": [
    {
     "name": "stdout",
     "output_type": "stream",
     "text": [
      "PALO ALTO Calif After years scorning political process Silicon Valley leapt fray The prospect President Donald J Trump pushing tech community traditional role donors embrace new existence agitators activists A distinguished venture capital firm emblazoned corporate home page earthy epithet One prominent tech chieftain says consequences Mr Trumps election range disastrous terrible Another compares dictator And nearly 150 tech leaders signed open letter decrying Mr Trump campaign anger bigotry Not action Peter Thiel founder PayPal Palantir outside investor Facebook spoke Republican convention July The New York Times reported Saturday Mr Thiel giving 1 25 million support Mr Trumps candidacy supporters flee He recently gave 1 million super PAC supports Senator Rob Portman Republican freshman running Ohio Getting involved politics seen clashing Silicon Valleys value You transform world making problems obsolete solving Washington Nor entrepreneurs want alienate segment customers agree politically Such reticence longer style Were bunch nerds having lot limelight said Dave McClure investor runs tech incubator called 500 Startups But quote With great power comes great responsibility Mr McClure grew worried Republican Democratic conventions Mr Trump began catch Hillary Clinton polls He wanted Silicon Valley late month announced Nerdz4Hillary informal effort An initial group donors pledged 50 000 goal ask nerdz small donations match sum They come Were kind optimistic 50 000 weeks Mr McClure said That relatively slow pace reflects Silicon Valleys shifting position Even increasingly free opinions free checkbook The recent data late August shows Mrs Clinton taking 7 7 million tech community according Crowdpac tracks donations By point 2012 Crowdpac says President Obama raised 21 million entrepreneurs venture capitalists Reid Hoffman billionaire business networking site LinkedIn offers snapshot Silicon Valleys evolving approach politics Mr Hoffman Obama donor giving 1 million Priorities USA political action committee peers Last month Mr Hoffman garnered worldwide publicity saying donate 5 million veterans groups Mr Trump released taxes remote possibility came pass He castigated Mr Trump interviews saying speaking afraid Mr Hoffmans outright donations smaller election cycle In May gave 400 000 Hillary Victory Fund Asked recent giving shown federal election records Mr Hoffman cryptically responded email Looking PACs He declined opportunities elaborate Even Priorities USA raised 133 million election cycle far exceeding total 2012 tech contributions dwindled The familiar tech time John Doerr venture capital firm Kleiner Perkins Caufield Byers gave 500 000 The AOL Steve Case said September endorsement Mrs Clinton The Washington Post time publicly declared candidate I focused policy avoided politics said But Trump elected president I disappointed acting When wrote uncertain donating money Mrs Clinton saying probable A spokeswoman said Sunday Mr Case gave 25 000 Hillary Victory Fund Mason Harrison Crowdpacs head communications offered possible reason Mrs Clintons support Donors support candidates love defeat candidates fear said A billionaires acting instead talking Dustin Moskovitz founder Facebook said giving 20 million Democratic election efforts time wife Cari Tuna endorsed candidate He declined interviewed Part problem Mrs Clinton preferable Mr Trump tech community pales comparison President Obama After initial misgivings Silicon Valley champion There revolving door tech Obama administration previous Democratic administrations revolving door Wall Street In June President Obama suggest venture capitalist term ends Mrs Clinton enthusiastic Silicon Valley disruptive ways In speech summer 2015 noted gig economy Uber Airbnb ilk unleashing innovation raising hard questions workplace protection good job look like future The Clinton campaign declined comment The Trump campaign respond query Even Silicon Valley works Mr Trump quiet acknowledgment campaign bared important issues In endorsement month Mrs Clinton venture capital firm Union Square Ventures pointed benefits technology globalization evenly distributed needed change If Silicon Valleys political involvement outlasts unusual election tech community start contributing process commentary cash Not tech people going wielding influence theyre going candidate Mr McClure said Reid Hoffman Sheryl Sandberg chief operating officer Facebook bunch folks political aspirations Others inspired enter politics doors Palmer Luckey founder Oculus virtual reality company sold Facebook 2 billion Mr Luckey donated 10 000 group dedicated spreading messages Mrs Clinton online The groups billboard said outside Pittsburgh labeled Too Big Jail Mr Luckey told The Daily Beast thinking went lines Hey I bunch money I love stuff He added I thought sounded like real jolly good time Many virtual reality developers happy Mr Luckey quickly posted regrets Facebook He declined comment If going vocal live transparently said Hunter Walk venture capitalist campaign persuade tech companies workers Election Day signed nearly 300 firms including Spotify SurveyMonkey TaskRabbit There period adjustment But vocal temporary condition The venture firm CRV spotlight end August blunt message included earthy epithet A weeks later cleaned website The partners went employing publicist seek attention declining interviews We reached wanted reach hopefully influenced opinions said Saar Gur CRV venture capitalist Then buzz died went day jobs super busy\n",
      "\n",
      "The news is: REAL\n",
      "Have seen proHillary TV ad disgraced Gen John Allen Nauseating You know 2011 Allen 4star general US Marine Corps nominated NATOs Supreme Allied Commander Europe pending confirmation Senate On November 13 2012 Defense Secretary Leon Panetta suspended Allens confirmation hearing pending investigations generals inappropriate communication woman named Jill Kelley Gen John Allen l Jill Kelley r As fallout Gen David Petraeus Paula Broadwell affair FBI uncovered 20000 30000 pages correspondence email Allen Kelley 2010 2012 Reportedly correspondence flirtatious inappropriate Allen Kelley married time Seriously 4star general free time write 20000 30000 emails space years ANYONE 20000 emails mean average 28 emails day exchanged Allen Kelley 30000 emails mean average 42 emails day There Ive exchanged 28 emails day 42 emails The upshot Not John Allen lose confirmation NATOs Supreme Allied Commander lost job Commander US forces Afghanistan post promoted replace disgraced Gen Petraeus See Obama purges US military command Part 1 Allen retired military February 2013 appointed Special Presidential Envoy Global Coalition Counter ISIL ISIS post title created Allen Obama Allen held year September 2014 October 23 2015 Allen featured speaker 2016 Democratic National Convention Philadelphia He criticized Donald Trump endorsed Hillary Clinton abandoned Americans die Benghazi President Like New Yorker Trump fired calling Allen failed general Trump endorsement 184 nonfailed nondisgraced US generals admirals including 4star fourteen 3star flag officers endorsement 14 Medal Honor recipients The endorsements began open letter Sept 6 2016 88 retired US general admirals The 2016 election affords American people urgently needed opportunity longoverdue course correction national security posture policy As retired senior leaders Americas military believe change deeply involved substantially responsible hollowing military burgeoning threats facing country world For reason support Donald Trumps candidacy CommanderinChief For past years Americas armed forces subjected series illconsidered debilitating budget cuts policy choices combat operations left superb men women uniform capable performing vital missions future require Simultaneously enemies country emboldened sensing weakness irresolution Washington opportunities aggression expense freedomloving nations In professional judgment combined effect potentially extremely perilous That especially case government persists practices brought present pass For reason support Donald Trump commitment rebuild military secure borders defeat Islamic supremacist adversaries restore law order domestically We urge fellow Americans Two days later Sept 8 21 retired US generals admirals joined list followed 31 day Sept 9 44 Sept 16 bringing total number flag officers endorsed Trump 184 Below list Sept 16 2016 retired US generals admirals endorsing Trump President CommanderInChief General Burwell B Bell III US Army Retired General Alfred G Hansen US Air Force Retired Admiral Jerry Johnson US Navy Retired Lieutenant General William G Boykin US Army Retired Lieutenant General Marvin Covault US Army Retired Lieutenant General Brett Dula US Air Force Retired Lieutenant General Dan Duren US Air Force Retired Lieutenant General Harold T Fields US Army Retired Lieutenant General Bruce L Fister US Air Force Retired Lieutenant General Michael Flynn US Army Retired Lieutenant General Gordon E Fornell US Air Force Retired Lieutenant Jay Garner US Army Retired Lieutenant General Ron Hite US Army Retired Lieutenant Generals John I Hudson USMC Retired Lieutenant General Harley Hughes US Air Force Retired Lieutenant General Keith Kellogg US Army Retired Lieutenant General Timothy A Kinnan US Air Force Retired Lieutenant General Joe Kinzer US Army US Army Retired Lieutenant General Bennett L Lewis US Army Retired Lieutenant General Frederick McCorkle US MC Retired Lieutenant General Thomas McInerney US Air Force Retired Lieutenant General Clifford H Rees Jr US Air Force Retired Lieutenant James C Riley US Army Retired Lieutenant General Hugh G Smith US Army Retired Lieutenant General John B Sylvester US Army Retired Lieutenant General David J Teal US Air Force Retired Lieutenant General William E Thurman US Air Force Retired Lieutenant General Jack Woodward US Air Force Retired Vice Admiral Mike Bucchi US Navy Retired Vice Admiral Edward Clexton Jr US Navy Retired Vice Admiral Bernard M Kauderer US Navy Retired Vice Admiral J Theodore Parker US Navy Retired Vice Admiral RFSchoultz US Navy Retired Vice Admiral Robert Spane US Navy Retired Vice Admiral Donald Thompson US Coast Guard Retired Vice Admiral Howard B Thorsen US Coast Guard Retired Vice Admiral John Totushek US Navy Retired Vice Admiral Jerry Unruh US Navy Retired Major General Joe Arbuckle US Army Retired Major General John Bianchi CSMR Retired Major General Pat Brady US Army Retired Major General Bobby G Butcher US Marine Corps Retired Major General Henry D Canterbury US Air Force Retired Major General Carroll D Childers US Army Retired Major General Jeffrey Cliver US Air Force Retired Major General Tommy F Crawford US Air Force Retired Major General Harley Davis US Army Retired Major General Felix Dupre US Air Force Retired Major General Neil Eddins US Air Force Retired Major General David W Eidsaune US Air Force Retired Major General John R Farrington US Air Force Retired Major General Dave Garza US Marine Corps Retired Major General William A Gorton US Air Force Retired Major General Kenneth Hagemann US Air Force Retired Major General Gary L Harrell US Army Retired Major General Geoffrey Higginbothan US Marine Corps Retired Major General Kent HillhouseUS Army Retired Major General Jerry D Holmes US Air Force Retired Major General John A Leide US Army Retired Major General James E Livingston USMC Retired Major General John D Logeman Jr US Air Force Retired Major General Homer S Long US Army Retired Major General Billy McCoy US Air Force Retired Major General Robert Messerli US Air Force Retired Major General John Miller US Air Force Retired Major General Ray OMara US Air Force Retired Major General George WNordie Norwood US Air Force Retired Major General Robert W Paret US Air Force MC Retired Major General James W Parker US Army Retired Major General Richard Perraut US Air Force Retired Major General RV Secord US Air Force Retired Major General Sidney Shachnow US Army Retired Major General Edison E Scholes US Army Retired Major General Richard A ScholtesUS Army Retired Major General Mark Solo US Air Force Retired Major General James N Stewart US Air Force Retired Major General Michael Sullivan US MC Retired Major General Thomas R Tempel US Army Retired Major General Richard L Testa US Air Force Retired Major General Paul E Vallely US Army Retired Major General John Welde US Air Force Retired Major General Kenneth W Weir US Marine Corps Retired Major General Michael Wiedemer US Air Force Retired Rear Admiral Phillip Anselmo US Navy Retired Rear Admiral Peter Booth US NavyRetired Rear Admiral Thomas F Brown III US Navy Retired Rear Admiral James J CareyUS Navy Retired Rear Admiral Larry Chambers US Navy Retired Rear Admiral Robert C Crates SC US Navy Retired Rear Admiral Mimi Drew US Navy Retired Rear Admiral Ernest Elliot SC US Navy Retired Rear Admiral James H Flatley III US Navy Retired Rear Admiral Vance H Fry SC US Navy Retired Rear Admiral Byron Fuller US Navy Retired Rear Admiral George M Furlong US Navy Retired Rear Admiral Albert Gallotta Jr US Navy Retired Rear Admiral Michael R Groothousen US Navy Retired Rear Admiral William A Guereck US Navy Retired Rear Admiral Dale Hagen US Navy Retired Rear Admiral John G Hekman US Navy Retired Rear Admiral Charles F Horne III US Navy Retired Rear Admiral William P Houley US Navy Retired Rear Admiral Grady L Jackson US Navy Retired Rear Admiral J Adrian Jackson US Navy Retired Rear Admiral Frederick C Johnson US Navy Retired Rear Admiral Pierce J Johnson US Navy Retired Rear Admiral Jack Kavanaugh SC US Navy Retired Rear Admiral Charles RKubic US Navy Retired Rear Admiral Rich Landolt US Navy Retired Rear Admiral Don Loren US Navy Retired Rear Admiral William J McDaniel MD US Navy Retired Rear Admiral ES McGinley II US Navy Retired Rear Admiral Fred Metz US Navy Retired Rear Admiral Douglas M Moore Jr SC US Navy Retired Rear Admiral John A Moriarty US Navy Retired Rear Admiral David R Morris US Navy Retired Rear Admiral James A Mozart SC US Navy Retired Rear Admiral Ed Nelson US Coast Guard Retired Rear Admiral Philip R Olsen US Navy Retired Rear Admiral Robert S Owens US Navy Retired Rear Admiral Robert PassmoreUS Navy Retired Rear Admiral WW Pickavance Jr US Navy Retired Rear Admiral Leonard F Picotte US Navy Retired Rear Admiral Brian C Prindle US Navy Retired Rear Admiral Mike Roesner SC USN Retired Rear Admiral William J Ryan US Navy Retired Rear Admiral William L Schachte Jr US Navy JAGC Retired Rear Admiral William R Schmidt US Navy Retired Rear Admiral William H Shawcross US Navy Retired Rear Admiral Hugh P Scott US Navy MC Retired Rear Admiral Gregory Slavonic US Navy Retired Rear Admiral Paul Sutherland US Navy Retired Rear Admiral Charles Williams US Navy Retired Rear Admiral H Denny Wisely US Navy Retired Rear Admiral Theodore J Wojnar US Coast Guard Retired Brigadier General Charles L Bishop US Army Retired Brigadier General Remo Butler US Army Retired Brigadier General Jimmy L Cash US Air Force Retired Brigadier General George P Cole Jr US Air Force Retired Brigadier General Philip M Drew US Air Force Retired Brigadier General Jerome V Foust US Army Retired Brigadier General Norman Ham US Air Force Retired Brigadier General Thomas W Honeywill US Air Force Retired Brigadier General Charles Jones US Air Force Retired Brigadier General Gary M Jones US Army Retired Brigadier General James M Johnston III US Air Force Retired Brigadier General Thomas J Lennon US Air Force Retired Brigadier General Bruce Miketinac US Army Retired Brigadier General Bert Mizusawa US Army Retired Brigadier General Harold C Morgan US Air Force Retired Brigadier General Stephen Mundt US Army Retired Brigadier General Mike Neil US Marines Corps Retired Brigadier general Robert V Paschon US Air Force Retired Brigadier General Mark D Scraba US Army Retired Brigadier General George L Schulstad US Air Force Retired Brigadier General Richard M Tabor US Army retired Brigadier General Hugh B Tant III US Army Retired Brigadier General Troy Tolbert US Air Force Retired Brigadier General Robert F Titus US Air Force Retired Brigadier General William O Walsh US Air Force Retired Brigadier General Robert V Woods US Air Force Retired Admiral James Ace Lyons Retired\n",
      "\n",
      "The news is: FAKE\n"
     ]
    }
   ],
   "source": [
    "#SELF INPUT\n",
    "news_index_num = 0 #Put any number between 0 to 996\n",
    "tfidf_self_input=tfidf_vectorizer.transform([req_df['text'].iloc[news_index_num]])\n",
    "print(req_df.text.iloc[news_index_num])\n",
    "print('\\nThe news is:',model.predict(tfidf_self_input)[0])\n",
    "\n",
    "#SELF INPUT\n",
    "news_index_num = 10 #Put any number between 0 to 996\n",
    "tfidf_self_input=tfidf_vectorizer.transform([req_df['text'].iloc[news_index_num]])\n",
    "print(req_df.text.iloc[news_index_num])\n",
    "print('\\nThe news is:',model.predict(tfidf_self_input)[0])"
   ]
  },
  {
   "cell_type": "code",
   "execution_count": 24,
   "metadata": {
    "execution": {
     "iopub.execute_input": "2020-11-30T05:01:48.305022Z",
     "iopub.status.busy": "2020-11-30T05:01:48.305022Z",
     "iopub.status.idle": "2020-11-30T05:01:50.861352Z",
     "shell.execute_reply": "2020-11-30T05:01:50.860351Z",
     "shell.execute_reply.started": "2020-11-30T05:01:48.305022Z"
    }
   },
   "outputs": [
    {
     "name": "stdout",
     "output_type": "stream",
     "text": [
      "\n",
      "The number of neighbors used to predict the target :  5\n",
      "accuracy_score on train dataset :  0.5199198195940867\n",
      "accuracy_score on test dataset :  0.5350701402805611\n"
     ]
    }
   ],
   "source": [
    "import pandas as pd\n",
    "from sklearn.neighbors import KNeighborsClassifier\n",
    "from sklearn.metrics import accuracy_score\n",
    "\n",
    "model = KNeighborsClassifier()  \n",
    "\n",
    "train_x = tfidf_train\n",
    "test_x = tfidf_test\n",
    "train_y = y_train\n",
    "test_y = y_test\n",
    "\n",
    "# fit the model with the training data\n",
    "model.fit(train_x,train_y)\n",
    "\n",
    "# Number of Neighbors used to predict the target\n",
    "print('\\nThe number of neighbors used to predict the target : ',model.n_neighbors)\n",
    "\n",
    "# predict the target on the train dataset\n",
    "predict_train = model.predict(train_x)\n",
    "# print('\\nTarget on train data',predict_train) \n",
    "\n",
    "# Accuray Score on train dataset\n",
    "accuracy_train = accuracy_score(train_y,predict_train)\n",
    "print('accuracy_score on train dataset : ', accuracy_train)\n",
    "\n",
    "# predict the target on the test dataset\n",
    "predict_test = model.predict(test_x)\n",
    "# print('Target on test data',predict_test) \n",
    "\n",
    "# Accuracy Score on test dataset\n",
    "accuracy_test = accuracy_score(test_y,predict_test)\n",
    "print('accuracy_score on test dataset : ', accuracy_test)"
   ]
  },
  {
   "cell_type": "code",
   "execution_count": 25,
   "metadata": {
    "execution": {
     "iopub.execute_input": "2020-11-30T05:01:50.862351Z",
     "iopub.status.busy": "2020-11-30T05:01:50.862351Z",
     "iopub.status.idle": "2020-11-30T05:01:50.956361Z",
     "shell.execute_reply": "2020-11-30T05:01:50.955358Z",
     "shell.execute_reply.started": "2020-11-30T05:01:50.862351Z"
    }
   },
   "outputs": [
    {
     "name": "stdout",
     "output_type": "stream",
     "text": [
      "PALO ALTO Calif After years scorning political process Silicon Valley leapt fray The prospect President Donald J Trump pushing tech community traditional role donors embrace new existence agitators activists A distinguished venture capital firm emblazoned corporate home page earthy epithet One prominent tech chieftain says consequences Mr Trumps election range disastrous terrible Another compares dictator And nearly 150 tech leaders signed open letter decrying Mr Trump campaign anger bigotry Not action Peter Thiel founder PayPal Palantir outside investor Facebook spoke Republican convention July The New York Times reported Saturday Mr Thiel giving 1 25 million support Mr Trumps candidacy supporters flee He recently gave 1 million super PAC supports Senator Rob Portman Republican freshman running Ohio Getting involved politics seen clashing Silicon Valleys value You transform world making problems obsolete solving Washington Nor entrepreneurs want alienate segment customers agree politically Such reticence longer style Were bunch nerds having lot limelight said Dave McClure investor runs tech incubator called 500 Startups But quote With great power comes great responsibility Mr McClure grew worried Republican Democratic conventions Mr Trump began catch Hillary Clinton polls He wanted Silicon Valley late month announced Nerdz4Hillary informal effort An initial group donors pledged 50 000 goal ask nerdz small donations match sum They come Were kind optimistic 50 000 weeks Mr McClure said That relatively slow pace reflects Silicon Valleys shifting position Even increasingly free opinions free checkbook The recent data late August shows Mrs Clinton taking 7 7 million tech community according Crowdpac tracks donations By point 2012 Crowdpac says President Obama raised 21 million entrepreneurs venture capitalists Reid Hoffman billionaire business networking site LinkedIn offers snapshot Silicon Valleys evolving approach politics Mr Hoffman Obama donor giving 1 million Priorities USA political action committee peers Last month Mr Hoffman garnered worldwide publicity saying donate 5 million veterans groups Mr Trump released taxes remote possibility came pass He castigated Mr Trump interviews saying speaking afraid Mr Hoffmans outright donations smaller election cycle In May gave 400 000 Hillary Victory Fund Asked recent giving shown federal election records Mr Hoffman cryptically responded email Looking PACs He declined opportunities elaborate Even Priorities USA raised 133 million election cycle far exceeding total 2012 tech contributions dwindled The familiar tech time John Doerr venture capital firm Kleiner Perkins Caufield Byers gave 500 000 The AOL Steve Case said September endorsement Mrs Clinton The Washington Post time publicly declared candidate I focused policy avoided politics said But Trump elected president I disappointed acting When wrote uncertain donating money Mrs Clinton saying probable A spokeswoman said Sunday Mr Case gave 25 000 Hillary Victory Fund Mason Harrison Crowdpacs head communications offered possible reason Mrs Clintons support Donors support candidates love defeat candidates fear said A billionaires acting instead talking Dustin Moskovitz founder Facebook said giving 20 million Democratic election efforts time wife Cari Tuna endorsed candidate He declined interviewed Part problem Mrs Clinton preferable Mr Trump tech community pales comparison President Obama After initial misgivings Silicon Valley champion There revolving door tech Obama administration previous Democratic administrations revolving door Wall Street In June President Obama suggest venture capitalist term ends Mrs Clinton enthusiastic Silicon Valley disruptive ways In speech summer 2015 noted gig economy Uber Airbnb ilk unleashing innovation raising hard questions workplace protection good job look like future The Clinton campaign declined comment The Trump campaign respond query Even Silicon Valley works Mr Trump quiet acknowledgment campaign bared important issues In endorsement month Mrs Clinton venture capital firm Union Square Ventures pointed benefits technology globalization evenly distributed needed change If Silicon Valleys political involvement outlasts unusual election tech community start contributing process commentary cash Not tech people going wielding influence theyre going candidate Mr McClure said Reid Hoffman Sheryl Sandberg chief operating officer Facebook bunch folks political aspirations Others inspired enter politics doors Palmer Luckey founder Oculus virtual reality company sold Facebook 2 billion Mr Luckey donated 10 000 group dedicated spreading messages Mrs Clinton online The groups billboard said outside Pittsburgh labeled Too Big Jail Mr Luckey told The Daily Beast thinking went lines Hey I bunch money I love stuff He added I thought sounded like real jolly good time Many virtual reality developers happy Mr Luckey quickly posted regrets Facebook He declined comment If going vocal live transparently said Hunter Walk venture capitalist campaign persuade tech companies workers Election Day signed nearly 300 firms including Spotify SurveyMonkey TaskRabbit There period adjustment But vocal temporary condition The venture firm CRV spotlight end August blunt message included earthy epithet A weeks later cleaned website The partners went employing publicist seek attention declining interviews We reached wanted reach hopefully influenced opinions said Saar Gur CRV venture capitalist Then buzz died went day jobs super busy\n",
      "\n",
      "The news is: FAKE\n",
      "Have seen proHillary TV ad disgraced Gen John Allen Nauseating You know 2011 Allen 4star general US Marine Corps nominated NATOs Supreme Allied Commander Europe pending confirmation Senate On November 13 2012 Defense Secretary Leon Panetta suspended Allens confirmation hearing pending investigations generals inappropriate communication woman named Jill Kelley Gen John Allen l Jill Kelley r As fallout Gen David Petraeus Paula Broadwell affair FBI uncovered 20000 30000 pages correspondence email Allen Kelley 2010 2012 Reportedly correspondence flirtatious inappropriate Allen Kelley married time Seriously 4star general free time write 20000 30000 emails space years ANYONE 20000 emails mean average 28 emails day exchanged Allen Kelley 30000 emails mean average 42 emails day There Ive exchanged 28 emails day 42 emails The upshot Not John Allen lose confirmation NATOs Supreme Allied Commander lost job Commander US forces Afghanistan post promoted replace disgraced Gen Petraeus See Obama purges US military command Part 1 Allen retired military February 2013 appointed Special Presidential Envoy Global Coalition Counter ISIL ISIS post title created Allen Obama Allen held year September 2014 October 23 2015 Allen featured speaker 2016 Democratic National Convention Philadelphia He criticized Donald Trump endorsed Hillary Clinton abandoned Americans die Benghazi President Like New Yorker Trump fired calling Allen failed general Trump endorsement 184 nonfailed nondisgraced US generals admirals including 4star fourteen 3star flag officers endorsement 14 Medal Honor recipients The endorsements began open letter Sept 6 2016 88 retired US general admirals The 2016 election affords American people urgently needed opportunity longoverdue course correction national security posture policy As retired senior leaders Americas military believe change deeply involved substantially responsible hollowing military burgeoning threats facing country world For reason support Donald Trumps candidacy CommanderinChief For past years Americas armed forces subjected series illconsidered debilitating budget cuts policy choices combat operations left superb men women uniform capable performing vital missions future require Simultaneously enemies country emboldened sensing weakness irresolution Washington opportunities aggression expense freedomloving nations In professional judgment combined effect potentially extremely perilous That especially case government persists practices brought present pass For reason support Donald Trump commitment rebuild military secure borders defeat Islamic supremacist adversaries restore law order domestically We urge fellow Americans Two days later Sept 8 21 retired US generals admirals joined list followed 31 day Sept 9 44 Sept 16 bringing total number flag officers endorsed Trump 184 Below list Sept 16 2016 retired US generals admirals endorsing Trump President CommanderInChief General Burwell B Bell III US Army Retired General Alfred G Hansen US Air Force Retired Admiral Jerry Johnson US Navy Retired Lieutenant General William G Boykin US Army Retired Lieutenant General Marvin Covault US Army Retired Lieutenant General Brett Dula US Air Force Retired Lieutenant General Dan Duren US Air Force Retired Lieutenant General Harold T Fields US Army Retired Lieutenant General Bruce L Fister US Air Force Retired Lieutenant General Michael Flynn US Army Retired Lieutenant General Gordon E Fornell US Air Force Retired Lieutenant Jay Garner US Army Retired Lieutenant General Ron Hite US Army Retired Lieutenant Generals John I Hudson USMC Retired Lieutenant General Harley Hughes US Air Force Retired Lieutenant General Keith Kellogg US Army Retired Lieutenant General Timothy A Kinnan US Air Force Retired Lieutenant General Joe Kinzer US Army US Army Retired Lieutenant General Bennett L Lewis US Army Retired Lieutenant General Frederick McCorkle US MC Retired Lieutenant General Thomas McInerney US Air Force Retired Lieutenant General Clifford H Rees Jr US Air Force Retired Lieutenant James C Riley US Army Retired Lieutenant General Hugh G Smith US Army Retired Lieutenant General John B Sylvester US Army Retired Lieutenant General David J Teal US Air Force Retired Lieutenant General William E Thurman US Air Force Retired Lieutenant General Jack Woodward US Air Force Retired Vice Admiral Mike Bucchi US Navy Retired Vice Admiral Edward Clexton Jr US Navy Retired Vice Admiral Bernard M Kauderer US Navy Retired Vice Admiral J Theodore Parker US Navy Retired Vice Admiral RFSchoultz US Navy Retired Vice Admiral Robert Spane US Navy Retired Vice Admiral Donald Thompson US Coast Guard Retired Vice Admiral Howard B Thorsen US Coast Guard Retired Vice Admiral John Totushek US Navy Retired Vice Admiral Jerry Unruh US Navy Retired Major General Joe Arbuckle US Army Retired Major General John Bianchi CSMR Retired Major General Pat Brady US Army Retired Major General Bobby G Butcher US Marine Corps Retired Major General Henry D Canterbury US Air Force Retired Major General Carroll D Childers US Army Retired Major General Jeffrey Cliver US Air Force Retired Major General Tommy F Crawford US Air Force Retired Major General Harley Davis US Army Retired Major General Felix Dupre US Air Force Retired Major General Neil Eddins US Air Force Retired Major General David W Eidsaune US Air Force Retired Major General John R Farrington US Air Force Retired Major General Dave Garza US Marine Corps Retired Major General William A Gorton US Air Force Retired Major General Kenneth Hagemann US Air Force Retired Major General Gary L Harrell US Army Retired Major General Geoffrey Higginbothan US Marine Corps Retired Major General Kent HillhouseUS Army Retired Major General Jerry D Holmes US Air Force Retired Major General John A Leide US Army Retired Major General James E Livingston USMC Retired Major General John D Logeman Jr US Air Force Retired Major General Homer S Long US Army Retired Major General Billy McCoy US Air Force Retired Major General Robert Messerli US Air Force Retired Major General John Miller US Air Force Retired Major General Ray OMara US Air Force Retired Major General George WNordie Norwood US Air Force Retired Major General Robert W Paret US Air Force MC Retired Major General James W Parker US Army Retired Major General Richard Perraut US Air Force Retired Major General RV Secord US Air Force Retired Major General Sidney Shachnow US Army Retired Major General Edison E Scholes US Army Retired Major General Richard A ScholtesUS Army Retired Major General Mark Solo US Air Force Retired Major General James N Stewart US Air Force Retired Major General Michael Sullivan US MC Retired Major General Thomas R Tempel US Army Retired Major General Richard L Testa US Air Force Retired Major General Paul E Vallely US Army Retired Major General John Welde US Air Force Retired Major General Kenneth W Weir US Marine Corps Retired Major General Michael Wiedemer US Air Force Retired Rear Admiral Phillip Anselmo US Navy Retired Rear Admiral Peter Booth US NavyRetired Rear Admiral Thomas F Brown III US Navy Retired Rear Admiral James J CareyUS Navy Retired Rear Admiral Larry Chambers US Navy Retired Rear Admiral Robert C Crates SC US Navy Retired Rear Admiral Mimi Drew US Navy Retired Rear Admiral Ernest Elliot SC US Navy Retired Rear Admiral James H Flatley III US Navy Retired Rear Admiral Vance H Fry SC US Navy Retired Rear Admiral Byron Fuller US Navy Retired Rear Admiral George M Furlong US Navy Retired Rear Admiral Albert Gallotta Jr US Navy Retired Rear Admiral Michael R Groothousen US Navy Retired Rear Admiral William A Guereck US Navy Retired Rear Admiral Dale Hagen US Navy Retired Rear Admiral John G Hekman US Navy Retired Rear Admiral Charles F Horne III US Navy Retired Rear Admiral William P Houley US Navy Retired Rear Admiral Grady L Jackson US Navy Retired Rear Admiral J Adrian Jackson US Navy Retired Rear Admiral Frederick C Johnson US Navy Retired Rear Admiral Pierce J Johnson US Navy Retired Rear Admiral Jack Kavanaugh SC US Navy Retired Rear Admiral Charles RKubic US Navy Retired Rear Admiral Rich Landolt US Navy Retired Rear Admiral Don Loren US Navy Retired Rear Admiral William J McDaniel MD US Navy Retired Rear Admiral ES McGinley II US Navy Retired Rear Admiral Fred Metz US Navy Retired Rear Admiral Douglas M Moore Jr SC US Navy Retired Rear Admiral John A Moriarty US Navy Retired Rear Admiral David R Morris US Navy Retired Rear Admiral James A Mozart SC US Navy Retired Rear Admiral Ed Nelson US Coast Guard Retired Rear Admiral Philip R Olsen US Navy Retired Rear Admiral Robert S Owens US Navy Retired Rear Admiral Robert PassmoreUS Navy Retired Rear Admiral WW Pickavance Jr US Navy Retired Rear Admiral Leonard F Picotte US Navy Retired Rear Admiral Brian C Prindle US Navy Retired Rear Admiral Mike Roesner SC USN Retired Rear Admiral William J Ryan US Navy Retired Rear Admiral William L Schachte Jr US Navy JAGC Retired Rear Admiral William R Schmidt US Navy Retired Rear Admiral William H Shawcross US Navy Retired Rear Admiral Hugh P Scott US Navy MC Retired Rear Admiral Gregory Slavonic US Navy Retired Rear Admiral Paul Sutherland US Navy Retired Rear Admiral Charles Williams US Navy Retired Rear Admiral H Denny Wisely US Navy Retired Rear Admiral Theodore J Wojnar US Coast Guard Retired Brigadier General Charles L Bishop US Army Retired Brigadier General Remo Butler US Army Retired Brigadier General Jimmy L Cash US Air Force Retired Brigadier General George P Cole Jr US Air Force Retired Brigadier General Philip M Drew US Air Force Retired Brigadier General Jerome V Foust US Army Retired Brigadier General Norman Ham US Air Force Retired Brigadier General Thomas W Honeywill US Air Force Retired Brigadier General Charles Jones US Air Force Retired Brigadier General Gary M Jones US Army Retired Brigadier General James M Johnston III US Air Force Retired Brigadier General Thomas J Lennon US Air Force Retired Brigadier General Bruce Miketinac US Army Retired Brigadier General Bert Mizusawa US Army Retired Brigadier General Harold C Morgan US Air Force Retired Brigadier General Stephen Mundt US Army Retired Brigadier General Mike Neil US Marines Corps Retired Brigadier general Robert V Paschon US Air Force Retired Brigadier General Mark D Scraba US Army Retired Brigadier General George L Schulstad US Air Force Retired Brigadier General Richard M Tabor US Army retired Brigadier General Hugh B Tant III US Army Retired Brigadier General Troy Tolbert US Air Force Retired Brigadier General Robert F Titus US Air Force Retired Brigadier General William O Walsh US Air Force Retired Brigadier General Robert V Woods US Air Force Retired Admiral James Ace Lyons Retired\n",
      "\n",
      "The news is: FAKE\n"
     ]
    }
   ],
   "source": [
    "#SELF INPUT\n",
    "news_index_num = 0 #Put any number between 0 to 996\n",
    "tfidf_self_input=tfidf_vectorizer.transform([req_df['text'].iloc[news_index_num]])\n",
    "print(req_df.text.iloc[news_index_num])\n",
    "print('\\nThe news is:',model.predict(tfidf_self_input)[0])\n",
    "\n",
    "#SELF INPUT\n",
    "news_index_num = 10 #Put any number between 0 to 996\n",
    "tfidf_self_input=tfidf_vectorizer.transform([req_df['text'].iloc[news_index_num]])\n",
    "print(req_df.text.iloc[news_index_num])\n",
    "print('\\nThe news is:',model.predict(tfidf_self_input)[0])"
   ]
  },
  {
   "cell_type": "code",
   "execution_count": 26,
   "metadata": {
    "execution": {
     "iopub.execute_input": "2020-11-30T05:01:50.957361Z",
     "iopub.status.busy": "2020-11-30T05:01:50.957361Z",
     "iopub.status.idle": "2020-11-30T05:01:59.369972Z",
     "shell.execute_reply": "2020-11-30T05:01:59.369972Z",
     "shell.execute_reply.started": "2020-11-30T05:01:50.957361Z"
    }
   },
   "outputs": [
    {
     "name": "stdout",
     "output_type": "stream",
     "text": [
      "Number of Trees used :  128\n",
      "\n",
      "accuracy_score on train dataset :  1.0\n",
      "\n",
      "accuracy_score on test dataset :  0.9248496993987976\n"
     ]
    }
   ],
   "source": [
    "import pandas as pd\n",
    "from sklearn.ensemble import RandomForestClassifier\n",
    "from sklearn.metrics import accuracy_score\n",
    "\n",
    "model = RandomForestClassifier(random_state=0, n_estimators=128)\n",
    "\n",
    "train_x = tfidf_train\n",
    "test_x = tfidf_test\n",
    "train_y = y_train\n",
    "test_y = y_test\n",
    "\n",
    "# fit the model with the training data\n",
    "model.fit(train_x,train_y)\n",
    "\n",
    "# number of trees used\n",
    "print('Number of Trees used : ', model.n_estimators)\n",
    "\n",
    "# predict the target on the train dataset\n",
    "predict_train = model.predict(train_x)\n",
    "# print('\\nTarget on train data',predict_train) \n",
    "\n",
    "# Accuray Score on train dataset\n",
    "accuracy_train = accuracy_score(train_y,predict_train)\n",
    "print('\\naccuracy_score on train dataset : ', accuracy_train)\n",
    "\n",
    "# predict the target on the test dataset\n",
    "predict_test = model.predict(test_x)\n",
    "# print('\\nTarget on test data',predict_test) \n",
    "\n",
    "# Accuracy Score on test dataset\n",
    "accuracy_test = accuracy_score(test_y,predict_test)\n",
    "print('\\naccuracy_score on test dataset : ', accuracy_test)"
   ]
  },
  {
   "cell_type": "code",
   "execution_count": 27,
   "metadata": {
    "execution": {
     "iopub.execute_input": "2020-11-30T05:01:59.372972Z",
     "iopub.status.busy": "2020-11-30T05:01:59.371974Z",
     "iopub.status.idle": "2020-11-30T05:01:59.434977Z",
     "shell.execute_reply": "2020-11-30T05:01:59.433978Z",
     "shell.execute_reply.started": "2020-11-30T05:01:59.372972Z"
    }
   },
   "outputs": [
    {
     "name": "stdout",
     "output_type": "stream",
     "text": [
      "PALO ALTO Calif After years scorning political process Silicon Valley leapt fray The prospect President Donald J Trump pushing tech community traditional role donors embrace new existence agitators activists A distinguished venture capital firm emblazoned corporate home page earthy epithet One prominent tech chieftain says consequences Mr Trumps election range disastrous terrible Another compares dictator And nearly 150 tech leaders signed open letter decrying Mr Trump campaign anger bigotry Not action Peter Thiel founder PayPal Palantir outside investor Facebook spoke Republican convention July The New York Times reported Saturday Mr Thiel giving 1 25 million support Mr Trumps candidacy supporters flee He recently gave 1 million super PAC supports Senator Rob Portman Republican freshman running Ohio Getting involved politics seen clashing Silicon Valleys value You transform world making problems obsolete solving Washington Nor entrepreneurs want alienate segment customers agree politically Such reticence longer style Were bunch nerds having lot limelight said Dave McClure investor runs tech incubator called 500 Startups But quote With great power comes great responsibility Mr McClure grew worried Republican Democratic conventions Mr Trump began catch Hillary Clinton polls He wanted Silicon Valley late month announced Nerdz4Hillary informal effort An initial group donors pledged 50 000 goal ask nerdz small donations match sum They come Were kind optimistic 50 000 weeks Mr McClure said That relatively slow pace reflects Silicon Valleys shifting position Even increasingly free opinions free checkbook The recent data late August shows Mrs Clinton taking 7 7 million tech community according Crowdpac tracks donations By point 2012 Crowdpac says President Obama raised 21 million entrepreneurs venture capitalists Reid Hoffman billionaire business networking site LinkedIn offers snapshot Silicon Valleys evolving approach politics Mr Hoffman Obama donor giving 1 million Priorities USA political action committee peers Last month Mr Hoffman garnered worldwide publicity saying donate 5 million veterans groups Mr Trump released taxes remote possibility came pass He castigated Mr Trump interviews saying speaking afraid Mr Hoffmans outright donations smaller election cycle In May gave 400 000 Hillary Victory Fund Asked recent giving shown federal election records Mr Hoffman cryptically responded email Looking PACs He declined opportunities elaborate Even Priorities USA raised 133 million election cycle far exceeding total 2012 tech contributions dwindled The familiar tech time John Doerr venture capital firm Kleiner Perkins Caufield Byers gave 500 000 The AOL Steve Case said September endorsement Mrs Clinton The Washington Post time publicly declared candidate I focused policy avoided politics said But Trump elected president I disappointed acting When wrote uncertain donating money Mrs Clinton saying probable A spokeswoman said Sunday Mr Case gave 25 000 Hillary Victory Fund Mason Harrison Crowdpacs head communications offered possible reason Mrs Clintons support Donors support candidates love defeat candidates fear said A billionaires acting instead talking Dustin Moskovitz founder Facebook said giving 20 million Democratic election efforts time wife Cari Tuna endorsed candidate He declined interviewed Part problem Mrs Clinton preferable Mr Trump tech community pales comparison President Obama After initial misgivings Silicon Valley champion There revolving door tech Obama administration previous Democratic administrations revolving door Wall Street In June President Obama suggest venture capitalist term ends Mrs Clinton enthusiastic Silicon Valley disruptive ways In speech summer 2015 noted gig economy Uber Airbnb ilk unleashing innovation raising hard questions workplace protection good job look like future The Clinton campaign declined comment The Trump campaign respond query Even Silicon Valley works Mr Trump quiet acknowledgment campaign bared important issues In endorsement month Mrs Clinton venture capital firm Union Square Ventures pointed benefits technology globalization evenly distributed needed change If Silicon Valleys political involvement outlasts unusual election tech community start contributing process commentary cash Not tech people going wielding influence theyre going candidate Mr McClure said Reid Hoffman Sheryl Sandberg chief operating officer Facebook bunch folks political aspirations Others inspired enter politics doors Palmer Luckey founder Oculus virtual reality company sold Facebook 2 billion Mr Luckey donated 10 000 group dedicated spreading messages Mrs Clinton online The groups billboard said outside Pittsburgh labeled Too Big Jail Mr Luckey told The Daily Beast thinking went lines Hey I bunch money I love stuff He added I thought sounded like real jolly good time Many virtual reality developers happy Mr Luckey quickly posted regrets Facebook He declined comment If going vocal live transparently said Hunter Walk venture capitalist campaign persuade tech companies workers Election Day signed nearly 300 firms including Spotify SurveyMonkey TaskRabbit There period adjustment But vocal temporary condition The venture firm CRV spotlight end August blunt message included earthy epithet A weeks later cleaned website The partners went employing publicist seek attention declining interviews We reached wanted reach hopefully influenced opinions said Saar Gur CRV venture capitalist Then buzz died went day jobs super busy\n",
      "\n",
      "The news is: REAL\n",
      "Have seen proHillary TV ad disgraced Gen John Allen Nauseating You know 2011 Allen 4star general US Marine Corps nominated NATOs Supreme Allied Commander Europe pending confirmation Senate On November 13 2012 Defense Secretary Leon Panetta suspended Allens confirmation hearing pending investigations generals inappropriate communication woman named Jill Kelley Gen John Allen l Jill Kelley r As fallout Gen David Petraeus Paula Broadwell affair FBI uncovered 20000 30000 pages correspondence email Allen Kelley 2010 2012 Reportedly correspondence flirtatious inappropriate Allen Kelley married time Seriously 4star general free time write 20000 30000 emails space years ANYONE 20000 emails mean average 28 emails day exchanged Allen Kelley 30000 emails mean average 42 emails day There Ive exchanged 28 emails day 42 emails The upshot Not John Allen lose confirmation NATOs Supreme Allied Commander lost job Commander US forces Afghanistan post promoted replace disgraced Gen Petraeus See Obama purges US military command Part 1 Allen retired military February 2013 appointed Special Presidential Envoy Global Coalition Counter ISIL ISIS post title created Allen Obama Allen held year September 2014 October 23 2015 Allen featured speaker 2016 Democratic National Convention Philadelphia He criticized Donald Trump endorsed Hillary Clinton abandoned Americans die Benghazi President Like New Yorker Trump fired calling Allen failed general Trump endorsement 184 nonfailed nondisgraced US generals admirals including 4star fourteen 3star flag officers endorsement 14 Medal Honor recipients The endorsements began open letter Sept 6 2016 88 retired US general admirals The 2016 election affords American people urgently needed opportunity longoverdue course correction national security posture policy As retired senior leaders Americas military believe change deeply involved substantially responsible hollowing military burgeoning threats facing country world For reason support Donald Trumps candidacy CommanderinChief For past years Americas armed forces subjected series illconsidered debilitating budget cuts policy choices combat operations left superb men women uniform capable performing vital missions future require Simultaneously enemies country emboldened sensing weakness irresolution Washington opportunities aggression expense freedomloving nations In professional judgment combined effect potentially extremely perilous That especially case government persists practices brought present pass For reason support Donald Trump commitment rebuild military secure borders defeat Islamic supremacist adversaries restore law order domestically We urge fellow Americans Two days later Sept 8 21 retired US generals admirals joined list followed 31 day Sept 9 44 Sept 16 bringing total number flag officers endorsed Trump 184 Below list Sept 16 2016 retired US generals admirals endorsing Trump President CommanderInChief General Burwell B Bell III US Army Retired General Alfred G Hansen US Air Force Retired Admiral Jerry Johnson US Navy Retired Lieutenant General William G Boykin US Army Retired Lieutenant General Marvin Covault US Army Retired Lieutenant General Brett Dula US Air Force Retired Lieutenant General Dan Duren US Air Force Retired Lieutenant General Harold T Fields US Army Retired Lieutenant General Bruce L Fister US Air Force Retired Lieutenant General Michael Flynn US Army Retired Lieutenant General Gordon E Fornell US Air Force Retired Lieutenant Jay Garner US Army Retired Lieutenant General Ron Hite US Army Retired Lieutenant Generals John I Hudson USMC Retired Lieutenant General Harley Hughes US Air Force Retired Lieutenant General Keith Kellogg US Army Retired Lieutenant General Timothy A Kinnan US Air Force Retired Lieutenant General Joe Kinzer US Army US Army Retired Lieutenant General Bennett L Lewis US Army Retired Lieutenant General Frederick McCorkle US MC Retired Lieutenant General Thomas McInerney US Air Force Retired Lieutenant General Clifford H Rees Jr US Air Force Retired Lieutenant James C Riley US Army Retired Lieutenant General Hugh G Smith US Army Retired Lieutenant General John B Sylvester US Army Retired Lieutenant General David J Teal US Air Force Retired Lieutenant General William E Thurman US Air Force Retired Lieutenant General Jack Woodward US Air Force Retired Vice Admiral Mike Bucchi US Navy Retired Vice Admiral Edward Clexton Jr US Navy Retired Vice Admiral Bernard M Kauderer US Navy Retired Vice Admiral J Theodore Parker US Navy Retired Vice Admiral RFSchoultz US Navy Retired Vice Admiral Robert Spane US Navy Retired Vice Admiral Donald Thompson US Coast Guard Retired Vice Admiral Howard B Thorsen US Coast Guard Retired Vice Admiral John Totushek US Navy Retired Vice Admiral Jerry Unruh US Navy Retired Major General Joe Arbuckle US Army Retired Major General John Bianchi CSMR Retired Major General Pat Brady US Army Retired Major General Bobby G Butcher US Marine Corps Retired Major General Henry D Canterbury US Air Force Retired Major General Carroll D Childers US Army Retired Major General Jeffrey Cliver US Air Force Retired Major General Tommy F Crawford US Air Force Retired Major General Harley Davis US Army Retired Major General Felix Dupre US Air Force Retired Major General Neil Eddins US Air Force Retired Major General David W Eidsaune US Air Force Retired Major General John R Farrington US Air Force Retired Major General Dave Garza US Marine Corps Retired Major General William A Gorton US Air Force Retired Major General Kenneth Hagemann US Air Force Retired Major General Gary L Harrell US Army Retired Major General Geoffrey Higginbothan US Marine Corps Retired Major General Kent HillhouseUS Army Retired Major General Jerry D Holmes US Air Force Retired Major General John A Leide US Army Retired Major General James E Livingston USMC Retired Major General John D Logeman Jr US Air Force Retired Major General Homer S Long US Army Retired Major General Billy McCoy US Air Force Retired Major General Robert Messerli US Air Force Retired Major General John Miller US Air Force Retired Major General Ray OMara US Air Force Retired Major General George WNordie Norwood US Air Force Retired Major General Robert W Paret US Air Force MC Retired Major General James W Parker US Army Retired Major General Richard Perraut US Air Force Retired Major General RV Secord US Air Force Retired Major General Sidney Shachnow US Army Retired Major General Edison E Scholes US Army Retired Major General Richard A ScholtesUS Army Retired Major General Mark Solo US Air Force Retired Major General James N Stewart US Air Force Retired Major General Michael Sullivan US MC Retired Major General Thomas R Tempel US Army Retired Major General Richard L Testa US Air Force Retired Major General Paul E Vallely US Army Retired Major General John Welde US Air Force Retired Major General Kenneth W Weir US Marine Corps Retired Major General Michael Wiedemer US Air Force Retired Rear Admiral Phillip Anselmo US Navy Retired Rear Admiral Peter Booth US NavyRetired Rear Admiral Thomas F Brown III US Navy Retired Rear Admiral James J CareyUS Navy Retired Rear Admiral Larry Chambers US Navy Retired Rear Admiral Robert C Crates SC US Navy Retired Rear Admiral Mimi Drew US Navy Retired Rear Admiral Ernest Elliot SC US Navy Retired Rear Admiral James H Flatley III US Navy Retired Rear Admiral Vance H Fry SC US Navy Retired Rear Admiral Byron Fuller US Navy Retired Rear Admiral George M Furlong US Navy Retired Rear Admiral Albert Gallotta Jr US Navy Retired Rear Admiral Michael R Groothousen US Navy Retired Rear Admiral William A Guereck US Navy Retired Rear Admiral Dale Hagen US Navy Retired Rear Admiral John G Hekman US Navy Retired Rear Admiral Charles F Horne III US Navy Retired Rear Admiral William P Houley US Navy Retired Rear Admiral Grady L Jackson US Navy Retired Rear Admiral J Adrian Jackson US Navy Retired Rear Admiral Frederick C Johnson US Navy Retired Rear Admiral Pierce J Johnson US Navy Retired Rear Admiral Jack Kavanaugh SC US Navy Retired Rear Admiral Charles RKubic US Navy Retired Rear Admiral Rich Landolt US Navy Retired Rear Admiral Don Loren US Navy Retired Rear Admiral William J McDaniel MD US Navy Retired Rear Admiral ES McGinley II US Navy Retired Rear Admiral Fred Metz US Navy Retired Rear Admiral Douglas M Moore Jr SC US Navy Retired Rear Admiral John A Moriarty US Navy Retired Rear Admiral David R Morris US Navy Retired Rear Admiral James A Mozart SC US Navy Retired Rear Admiral Ed Nelson US Coast Guard Retired Rear Admiral Philip R Olsen US Navy Retired Rear Admiral Robert S Owens US Navy Retired Rear Admiral Robert PassmoreUS Navy Retired Rear Admiral WW Pickavance Jr US Navy Retired Rear Admiral Leonard F Picotte US Navy Retired Rear Admiral Brian C Prindle US Navy Retired Rear Admiral Mike Roesner SC USN Retired Rear Admiral William J Ryan US Navy Retired Rear Admiral William L Schachte Jr US Navy JAGC Retired Rear Admiral William R Schmidt US Navy Retired Rear Admiral William H Shawcross US Navy Retired Rear Admiral Hugh P Scott US Navy MC Retired Rear Admiral Gregory Slavonic US Navy Retired Rear Admiral Paul Sutherland US Navy Retired Rear Admiral Charles Williams US Navy Retired Rear Admiral H Denny Wisely US Navy Retired Rear Admiral Theodore J Wojnar US Coast Guard Retired Brigadier General Charles L Bishop US Army Retired Brigadier General Remo Butler US Army Retired Brigadier General Jimmy L Cash US Air Force Retired Brigadier General George P Cole Jr US Air Force Retired Brigadier General Philip M Drew US Air Force Retired Brigadier General Jerome V Foust US Army Retired Brigadier General Norman Ham US Air Force Retired Brigadier General Thomas W Honeywill US Air Force Retired Brigadier General Charles Jones US Air Force Retired Brigadier General Gary M Jones US Army Retired Brigadier General James M Johnston III US Air Force Retired Brigadier General Thomas J Lennon US Air Force Retired Brigadier General Bruce Miketinac US Army Retired Brigadier General Bert Mizusawa US Army Retired Brigadier General Harold C Morgan US Air Force Retired Brigadier General Stephen Mundt US Army Retired Brigadier General Mike Neil US Marines Corps Retired Brigadier general Robert V Paschon US Air Force Retired Brigadier General Mark D Scraba US Army Retired Brigadier General George L Schulstad US Air Force Retired Brigadier General Richard M Tabor US Army retired Brigadier General Hugh B Tant III US Army Retired Brigadier General Troy Tolbert US Air Force Retired Brigadier General Robert F Titus US Air Force Retired Brigadier General William O Walsh US Air Force Retired Brigadier General Robert V Woods US Air Force Retired Admiral James Ace Lyons Retired\n",
      "\n",
      "The news is: FAKE\n"
     ]
    }
   ],
   "source": [
    "#SELF INPUT\n",
    "news_index_num = 0 #Put any number between 0 to 996\n",
    "tfidf_self_input=tfidf_vectorizer.transform([req_df['text'].iloc[news_index_num]])\n",
    "print(req_df.text.iloc[news_index_num])\n",
    "print('\\nThe news is:',model.predict(tfidf_self_input)[0])\n",
    "\n",
    "#SELF INPUT\n",
    "news_index_num = 10 #Put any number between 0 to 996\n",
    "tfidf_self_input=tfidf_vectorizer.transform([req_df['text'].iloc[news_index_num]])\n",
    "print(req_df.text.iloc[news_index_num])\n",
    "print('\\nThe news is:',model.predict(tfidf_self_input)[0])"
   ]
  },
  {
   "cell_type": "code",
   "execution_count": 32,
   "metadata": {
    "execution": {
     "iopub.execute_input": "2020-11-30T05:03:56.540154Z",
     "iopub.status.busy": "2020-11-30T05:03:56.539155Z",
     "iopub.status.idle": "2020-11-30T05:04:34.014300Z",
     "shell.execute_reply": "2020-11-30T05:04:34.009300Z",
     "shell.execute_reply.started": "2020-11-30T05:03:56.540154Z"
    }
   },
   "outputs": [
    {
     "name": "stdout",
     "output_type": "stream",
     "text": [
      "accuracy_score on train dataset :  0.9797043347531947\n",
      "accuracy_score on test dataset :  0.7945891783567134\n"
     ]
    }
   ],
   "source": [
    "import pandas as pd\n",
    "from sklearn.naive_bayes import GaussianNB\n",
    "from sklearn.metrics import accuracy_score\n",
    "\n",
    "train_x = tfidf_train\n",
    "test_x = tfidf_test\n",
    "train_y = y_train\n",
    "test_y = y_test\n",
    "\n",
    "model = GaussianNB()\n",
    "\n",
    "# fit the model with the training data\n",
    "model.fit(train_x.toarray(),train_y)\n",
    "\n",
    "# predict the target on the train dataset\n",
    "predict_train = model.predict(train_x.toarray())\n",
    "\n",
    "# Accuray Score on train dataset\n",
    "accuracy_train = accuracy_score(train_y,predict_train)\n",
    "print('accuracy_score on train dataset : ', accuracy_train)\n",
    "\n",
    "# predict the target on the test dataset\n",
    "predict_test = model.predict(test_x.toarray())\n",
    "\n",
    "# Accuracy Score on test dataset\n",
    "accuracy_test = accuracy_score(test_y,predict_test)\n",
    "print('accuracy_score on test dataset : ', accuracy_test)"
   ]
  },
  {
   "cell_type": "code",
   "execution_count": 35,
   "metadata": {
    "execution": {
     "iopub.execute_input": "2020-11-30T05:05:06.301801Z",
     "iopub.status.busy": "2020-11-30T05:05:06.301801Z",
     "iopub.status.idle": "2020-11-30T05:05:06.346805Z",
     "shell.execute_reply": "2020-11-30T05:05:06.345804Z",
     "shell.execute_reply.started": "2020-11-30T05:05:06.301801Z"
    }
   },
   "outputs": [
    {
     "name": "stdout",
     "output_type": "stream",
     "text": [
      "PALO ALTO Calif After years scorning political process Silicon Valley leapt fray The prospect President Donald J Trump pushing tech community traditional role donors embrace new existence agitators activists A distinguished venture capital firm emblazoned corporate home page earthy epithet One prominent tech chieftain says consequences Mr Trumps election range disastrous terrible Another compares dictator And nearly 150 tech leaders signed open letter decrying Mr Trump campaign anger bigotry Not action Peter Thiel founder PayPal Palantir outside investor Facebook spoke Republican convention July The New York Times reported Saturday Mr Thiel giving 1 25 million support Mr Trumps candidacy supporters flee He recently gave 1 million super PAC supports Senator Rob Portman Republican freshman running Ohio Getting involved politics seen clashing Silicon Valleys value You transform world making problems obsolete solving Washington Nor entrepreneurs want alienate segment customers agree politically Such reticence longer style Were bunch nerds having lot limelight said Dave McClure investor runs tech incubator called 500 Startups But quote With great power comes great responsibility Mr McClure grew worried Republican Democratic conventions Mr Trump began catch Hillary Clinton polls He wanted Silicon Valley late month announced Nerdz4Hillary informal effort An initial group donors pledged 50 000 goal ask nerdz small donations match sum They come Were kind optimistic 50 000 weeks Mr McClure said That relatively slow pace reflects Silicon Valleys shifting position Even increasingly free opinions free checkbook The recent data late August shows Mrs Clinton taking 7 7 million tech community according Crowdpac tracks donations By point 2012 Crowdpac says President Obama raised 21 million entrepreneurs venture capitalists Reid Hoffman billionaire business networking site LinkedIn offers snapshot Silicon Valleys evolving approach politics Mr Hoffman Obama donor giving 1 million Priorities USA political action committee peers Last month Mr Hoffman garnered worldwide publicity saying donate 5 million veterans groups Mr Trump released taxes remote possibility came pass He castigated Mr Trump interviews saying speaking afraid Mr Hoffmans outright donations smaller election cycle In May gave 400 000 Hillary Victory Fund Asked recent giving shown federal election records Mr Hoffman cryptically responded email Looking PACs He declined opportunities elaborate Even Priorities USA raised 133 million election cycle far exceeding total 2012 tech contributions dwindled The familiar tech time John Doerr venture capital firm Kleiner Perkins Caufield Byers gave 500 000 The AOL Steve Case said September endorsement Mrs Clinton The Washington Post time publicly declared candidate I focused policy avoided politics said But Trump elected president I disappointed acting When wrote uncertain donating money Mrs Clinton saying probable A spokeswoman said Sunday Mr Case gave 25 000 Hillary Victory Fund Mason Harrison Crowdpacs head communications offered possible reason Mrs Clintons support Donors support candidates love defeat candidates fear said A billionaires acting instead talking Dustin Moskovitz founder Facebook said giving 20 million Democratic election efforts time wife Cari Tuna endorsed candidate He declined interviewed Part problem Mrs Clinton preferable Mr Trump tech community pales comparison President Obama After initial misgivings Silicon Valley champion There revolving door tech Obama administration previous Democratic administrations revolving door Wall Street In June President Obama suggest venture capitalist term ends Mrs Clinton enthusiastic Silicon Valley disruptive ways In speech summer 2015 noted gig economy Uber Airbnb ilk unleashing innovation raising hard questions workplace protection good job look like future The Clinton campaign declined comment The Trump campaign respond query Even Silicon Valley works Mr Trump quiet acknowledgment campaign bared important issues In endorsement month Mrs Clinton venture capital firm Union Square Ventures pointed benefits technology globalization evenly distributed needed change If Silicon Valleys political involvement outlasts unusual election tech community start contributing process commentary cash Not tech people going wielding influence theyre going candidate Mr McClure said Reid Hoffman Sheryl Sandberg chief operating officer Facebook bunch folks political aspirations Others inspired enter politics doors Palmer Luckey founder Oculus virtual reality company sold Facebook 2 billion Mr Luckey donated 10 000 group dedicated spreading messages Mrs Clinton online The groups billboard said outside Pittsburgh labeled Too Big Jail Mr Luckey told The Daily Beast thinking went lines Hey I bunch money I love stuff He added I thought sounded like real jolly good time Many virtual reality developers happy Mr Luckey quickly posted regrets Facebook He declined comment If going vocal live transparently said Hunter Walk venture capitalist campaign persuade tech companies workers Election Day signed nearly 300 firms including Spotify SurveyMonkey TaskRabbit There period adjustment But vocal temporary condition The venture firm CRV spotlight end August blunt message included earthy epithet A weeks later cleaned website The partners went employing publicist seek attention declining interviews We reached wanted reach hopefully influenced opinions said Saar Gur CRV venture capitalist Then buzz died went day jobs super busy\n",
      "\n",
      "The news is: REAL\n",
      "Have seen proHillary TV ad disgraced Gen John Allen Nauseating You know 2011 Allen 4star general US Marine Corps nominated NATOs Supreme Allied Commander Europe pending confirmation Senate On November 13 2012 Defense Secretary Leon Panetta suspended Allens confirmation hearing pending investigations generals inappropriate communication woman named Jill Kelley Gen John Allen l Jill Kelley r As fallout Gen David Petraeus Paula Broadwell affair FBI uncovered 20000 30000 pages correspondence email Allen Kelley 2010 2012 Reportedly correspondence flirtatious inappropriate Allen Kelley married time Seriously 4star general free time write 20000 30000 emails space years ANYONE 20000 emails mean average 28 emails day exchanged Allen Kelley 30000 emails mean average 42 emails day There Ive exchanged 28 emails day 42 emails The upshot Not John Allen lose confirmation NATOs Supreme Allied Commander lost job Commander US forces Afghanistan post promoted replace disgraced Gen Petraeus See Obama purges US military command Part 1 Allen retired military February 2013 appointed Special Presidential Envoy Global Coalition Counter ISIL ISIS post title created Allen Obama Allen held year September 2014 October 23 2015 Allen featured speaker 2016 Democratic National Convention Philadelphia He criticized Donald Trump endorsed Hillary Clinton abandoned Americans die Benghazi President Like New Yorker Trump fired calling Allen failed general Trump endorsement 184 nonfailed nondisgraced US generals admirals including 4star fourteen 3star flag officers endorsement 14 Medal Honor recipients The endorsements began open letter Sept 6 2016 88 retired US general admirals The 2016 election affords American people urgently needed opportunity longoverdue course correction national security posture policy As retired senior leaders Americas military believe change deeply involved substantially responsible hollowing military burgeoning threats facing country world For reason support Donald Trumps candidacy CommanderinChief For past years Americas armed forces subjected series illconsidered debilitating budget cuts policy choices combat operations left superb men women uniform capable performing vital missions future require Simultaneously enemies country emboldened sensing weakness irresolution Washington opportunities aggression expense freedomloving nations In professional judgment combined effect potentially extremely perilous That especially case government persists practices brought present pass For reason support Donald Trump commitment rebuild military secure borders defeat Islamic supremacist adversaries restore law order domestically We urge fellow Americans Two days later Sept 8 21 retired US generals admirals joined list followed 31 day Sept 9 44 Sept 16 bringing total number flag officers endorsed Trump 184 Below list Sept 16 2016 retired US generals admirals endorsing Trump President CommanderInChief General Burwell B Bell III US Army Retired General Alfred G Hansen US Air Force Retired Admiral Jerry Johnson US Navy Retired Lieutenant General William G Boykin US Army Retired Lieutenant General Marvin Covault US Army Retired Lieutenant General Brett Dula US Air Force Retired Lieutenant General Dan Duren US Air Force Retired Lieutenant General Harold T Fields US Army Retired Lieutenant General Bruce L Fister US Air Force Retired Lieutenant General Michael Flynn US Army Retired Lieutenant General Gordon E Fornell US Air Force Retired Lieutenant Jay Garner US Army Retired Lieutenant General Ron Hite US Army Retired Lieutenant Generals John I Hudson USMC Retired Lieutenant General Harley Hughes US Air Force Retired Lieutenant General Keith Kellogg US Army Retired Lieutenant General Timothy A Kinnan US Air Force Retired Lieutenant General Joe Kinzer US Army US Army Retired Lieutenant General Bennett L Lewis US Army Retired Lieutenant General Frederick McCorkle US MC Retired Lieutenant General Thomas McInerney US Air Force Retired Lieutenant General Clifford H Rees Jr US Air Force Retired Lieutenant James C Riley US Army Retired Lieutenant General Hugh G Smith US Army Retired Lieutenant General John B Sylvester US Army Retired Lieutenant General David J Teal US Air Force Retired Lieutenant General William E Thurman US Air Force Retired Lieutenant General Jack Woodward US Air Force Retired Vice Admiral Mike Bucchi US Navy Retired Vice Admiral Edward Clexton Jr US Navy Retired Vice Admiral Bernard M Kauderer US Navy Retired Vice Admiral J Theodore Parker US Navy Retired Vice Admiral RFSchoultz US Navy Retired Vice Admiral Robert Spane US Navy Retired Vice Admiral Donald Thompson US Coast Guard Retired Vice Admiral Howard B Thorsen US Coast Guard Retired Vice Admiral John Totushek US Navy Retired Vice Admiral Jerry Unruh US Navy Retired Major General Joe Arbuckle US Army Retired Major General John Bianchi CSMR Retired Major General Pat Brady US Army Retired Major General Bobby G Butcher US Marine Corps Retired Major General Henry D Canterbury US Air Force Retired Major General Carroll D Childers US Army Retired Major General Jeffrey Cliver US Air Force Retired Major General Tommy F Crawford US Air Force Retired Major General Harley Davis US Army Retired Major General Felix Dupre US Air Force Retired Major General Neil Eddins US Air Force Retired Major General David W Eidsaune US Air Force Retired Major General John R Farrington US Air Force Retired Major General Dave Garza US Marine Corps Retired Major General William A Gorton US Air Force Retired Major General Kenneth Hagemann US Air Force Retired Major General Gary L Harrell US Army Retired Major General Geoffrey Higginbothan US Marine Corps Retired Major General Kent HillhouseUS Army Retired Major General Jerry D Holmes US Air Force Retired Major General John A Leide US Army Retired Major General James E Livingston USMC Retired Major General John D Logeman Jr US Air Force Retired Major General Homer S Long US Army Retired Major General Billy McCoy US Air Force Retired Major General Robert Messerli US Air Force Retired Major General John Miller US Air Force Retired Major General Ray OMara US Air Force Retired Major General George WNordie Norwood US Air Force Retired Major General Robert W Paret US Air Force MC Retired Major General James W Parker US Army Retired Major General Richard Perraut US Air Force Retired Major General RV Secord US Air Force Retired Major General Sidney Shachnow US Army Retired Major General Edison E Scholes US Army Retired Major General Richard A ScholtesUS Army Retired Major General Mark Solo US Air Force Retired Major General James N Stewart US Air Force Retired Major General Michael Sullivan US MC Retired Major General Thomas R Tempel US Army Retired Major General Richard L Testa US Air Force Retired Major General Paul E Vallely US Army Retired Major General John Welde US Air Force Retired Major General Kenneth W Weir US Marine Corps Retired Major General Michael Wiedemer US Air Force Retired Rear Admiral Phillip Anselmo US Navy Retired Rear Admiral Peter Booth US NavyRetired Rear Admiral Thomas F Brown III US Navy Retired Rear Admiral James J CareyUS Navy Retired Rear Admiral Larry Chambers US Navy Retired Rear Admiral Robert C Crates SC US Navy Retired Rear Admiral Mimi Drew US Navy Retired Rear Admiral Ernest Elliot SC US Navy Retired Rear Admiral James H Flatley III US Navy Retired Rear Admiral Vance H Fry SC US Navy Retired Rear Admiral Byron Fuller US Navy Retired Rear Admiral George M Furlong US Navy Retired Rear Admiral Albert Gallotta Jr US Navy Retired Rear Admiral Michael R Groothousen US Navy Retired Rear Admiral William A Guereck US Navy Retired Rear Admiral Dale Hagen US Navy Retired Rear Admiral John G Hekman US Navy Retired Rear Admiral Charles F Horne III US Navy Retired Rear Admiral William P Houley US Navy Retired Rear Admiral Grady L Jackson US Navy Retired Rear Admiral J Adrian Jackson US Navy Retired Rear Admiral Frederick C Johnson US Navy Retired Rear Admiral Pierce J Johnson US Navy Retired Rear Admiral Jack Kavanaugh SC US Navy Retired Rear Admiral Charles RKubic US Navy Retired Rear Admiral Rich Landolt US Navy Retired Rear Admiral Don Loren US Navy Retired Rear Admiral William J McDaniel MD US Navy Retired Rear Admiral ES McGinley II US Navy Retired Rear Admiral Fred Metz US Navy Retired Rear Admiral Douglas M Moore Jr SC US Navy Retired Rear Admiral John A Moriarty US Navy Retired Rear Admiral David R Morris US Navy Retired Rear Admiral James A Mozart SC US Navy Retired Rear Admiral Ed Nelson US Coast Guard Retired Rear Admiral Philip R Olsen US Navy Retired Rear Admiral Robert S Owens US Navy Retired Rear Admiral Robert PassmoreUS Navy Retired Rear Admiral WW Pickavance Jr US Navy Retired Rear Admiral Leonard F Picotte US Navy Retired Rear Admiral Brian C Prindle US Navy Retired Rear Admiral Mike Roesner SC USN Retired Rear Admiral William J Ryan US Navy Retired Rear Admiral William L Schachte Jr US Navy JAGC Retired Rear Admiral William R Schmidt US Navy Retired Rear Admiral William H Shawcross US Navy Retired Rear Admiral Hugh P Scott US Navy MC Retired Rear Admiral Gregory Slavonic US Navy Retired Rear Admiral Paul Sutherland US Navy Retired Rear Admiral Charles Williams US Navy Retired Rear Admiral H Denny Wisely US Navy Retired Rear Admiral Theodore J Wojnar US Coast Guard Retired Brigadier General Charles L Bishop US Army Retired Brigadier General Remo Butler US Army Retired Brigadier General Jimmy L Cash US Air Force Retired Brigadier General George P Cole Jr US Air Force Retired Brigadier General Philip M Drew US Air Force Retired Brigadier General Jerome V Foust US Army Retired Brigadier General Norman Ham US Air Force Retired Brigadier General Thomas W Honeywill US Air Force Retired Brigadier General Charles Jones US Air Force Retired Brigadier General Gary M Jones US Army Retired Brigadier General James M Johnston III US Air Force Retired Brigadier General Thomas J Lennon US Air Force Retired Brigadier General Bruce Miketinac US Army Retired Brigadier General Bert Mizusawa US Army Retired Brigadier General Harold C Morgan US Air Force Retired Brigadier General Stephen Mundt US Army Retired Brigadier General Mike Neil US Marines Corps Retired Brigadier general Robert V Paschon US Air Force Retired Brigadier General Mark D Scraba US Army Retired Brigadier General George L Schulstad US Air Force Retired Brigadier General Richard M Tabor US Army retired Brigadier General Hugh B Tant III US Army Retired Brigadier General Troy Tolbert US Air Force Retired Brigadier General Robert F Titus US Air Force Retired Brigadier General William O Walsh US Air Force Retired Brigadier General Robert V Woods US Air Force Retired Admiral James Ace Lyons Retired\n",
      "\n",
      "The news is: FAKE\n"
     ]
    }
   ],
   "source": [
    "#SELF INPUT\n",
    "news_index_num = 0 #Put any number between 0 to 996\n",
    "tfidf_self_input=tfidf_vectorizer.transform([req_df['text'].iloc[news_index_num]])\n",
    "print(req_df.text.iloc[news_index_num])\n",
    "print('\\nThe news is:',model.predict(tfidf_self_input.toarray())[0])\n",
    "\n",
    "#SELF INPUT\n",
    "news_index_num = 10 #Put any number between 0 to 996\n",
    "tfidf_self_input=tfidf_vectorizer.transform([req_df['text'].iloc[news_index_num]])\n",
    "print(req_df.text.iloc[news_index_num])\n",
    "print('\\nThe news is:',model.predict(tfidf_self_input.toarray())[0])"
   ]
  },
  {
   "cell_type": "code",
   "execution_count": null,
   "metadata": {},
   "outputs": [],
   "source": []
  }
 ],
 "metadata": {
  "kernelspec": {
   "display_name": "Python 3",
   "language": "python",
   "name": "python3"
  },
  "language_info": {
   "codemirror_mode": {
    "name": "ipython",
    "version": 3
   },
   "file_extension": ".py",
   "mimetype": "text/x-python",
   "name": "python",
   "nbconvert_exporter": "python",
   "pygments_lexer": "ipython3",
   "version": "3.8.5"
  }
 },
 "nbformat": 4,
 "nbformat_minor": 4
}
